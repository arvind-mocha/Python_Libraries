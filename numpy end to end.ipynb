{
 "cells": [
  {
   "cell_type": "markdown",
   "metadata": {},
   "source": [
    "# numpy end-to-end"
   ]
  },
  {
   "cell_type": "code",
   "execution_count": 107,
   "metadata": {},
   "outputs": [],
   "source": [
    "import numpy as np\n",
    "import os"
   ]
  },
  {
   "cell_type": "code",
   "execution_count": 7,
   "metadata": {},
   "outputs": [
    {
     "name": "stdout",
     "output_type": "stream",
     "text": [
      "[1 2 3]\n",
      "[1 2 3]\n"
     ]
    }
   ],
   "source": [
    "#array(list or tuple)\n",
    "a = np.array([1,2,3])\n",
    "b = np.array((1,2,3))\n",
    "print(a)\n",
    "print(b)"
   ]
  },
  {
   "cell_type": "code",
   "execution_count": 8,
   "metadata": {},
   "outputs": [
    {
     "name": "stdout",
     "output_type": "stream",
     "text": [
      "[ 1 20  3]\n"
     ]
    }
   ],
   "source": [
    "b[1] = 20\n",
    "print(b)"
   ]
  },
  {
   "cell_type": "code",
   "execution_count": 9,
   "metadata": {},
   "outputs": [
    {
     "name": "stdout",
     "output_type": "stream",
     "text": [
      "[[1 2 3]\n",
      " [4 5 6]]\n"
     ]
    }
   ],
   "source": [
    "#2D array\n",
    "a=np.array([[1,2,3],\n",
    "          [4,5,6]])\n",
    "print(a)"
   ]
  },
  {
   "cell_type": "code",
   "execution_count": 10,
   "metadata": {},
   "outputs": [
    {
     "name": "stdout",
     "output_type": "stream",
     "text": [
      "[[ 1  2  3]\n",
      " [ 4  5 20]]\n"
     ]
    }
   ],
   "source": [
    "a[1][2]=20\n",
    "print(a)"
   ]
  },
  {
   "cell_type": "code",
   "execution_count": 11,
   "metadata": {},
   "outputs": [
    {
     "data": {
      "text/plain": [
       "array([], shape=(0, 3), dtype=int32)"
      ]
     },
     "execution_count": 11,
     "metadata": {},
     "output_type": "execute_result"
    }
   ],
   "source": [
    "a[:0]"
   ]
  },
  {
   "cell_type": "code",
   "execution_count": 12,
   "metadata": {},
   "outputs": [
    {
     "name": "stdout",
     "output_type": "stream",
     "text": [
      "[[0. 0. 0. 0.]\n",
      " [0. 0. 0. 0.]\n",
      " [0. 0. 0. 0.]]\n"
     ]
    }
   ],
   "source": [
    "#zeros(row,column)\n",
    "a=np.zeros([3,4])\n",
    "print(a)"
   ]
  },
  {
   "cell_type": "code",
   "execution_count": 13,
   "metadata": {},
   "outputs": [
    {
     "name": "stdout",
     "output_type": "stream",
     "text": [
      "[[1. 1. 1.]\n",
      " [1. 1. 1.]]\n"
     ]
    }
   ],
   "source": [
    "#ones(row,cloumn)\n",
    "a = np.ones([2,3])\n",
    "print(a)"
   ]
  },
  {
   "cell_type": "code",
   "execution_count": 15,
   "metadata": {},
   "outputs": [
    {
     "name": "stdout",
     "output_type": "stream",
     "text": [
      "[10 15 20 25]\n",
      "24\n",
      "float64\n",
      "[ 0.  1.  2.  3.  4.  5.  6.  7.  8.  9. 10. 11. 12. 13. 14. 15. 16. 17.\n",
      " 18. 19. 20. 21. 22. 23.]\n"
     ]
    }
   ],
   "source": [
    "#arange(starting value,ending value ,interval)\n",
    "a = np.arange(10,26,5)\n",
    "print(a)\n",
    "#arange(no of elements you need,type of data type)\n",
    "a=np.arange(24,dtype=float)\n",
    "print(a.size)\n",
    "print(a.dtype)\n",
    "print(a)"
   ]
  },
  {
   "cell_type": "code",
   "execution_count": 20,
   "metadata": {},
   "outputs": [
    {
     "name": "stdout",
     "output_type": "stream",
     "text": [
      "[5.   5.25 5.5  5.75 6.  ]\n"
     ]
    }
   ],
   "source": [
    "#linspace(start value,end value,total no of values)\n",
    "a = np.linspace(5,6,5)\n",
    "print(a)"
   ]
  },
  {
   "cell_type": "code",
   "execution_count": 21,
   "metadata": {},
   "outputs": [
    {
     "name": "stdout",
     "output_type": "stream",
     "text": [
      "[['f' 'f' 'f' 'f']\n",
      " ['f' 'f' 'f' 'f']\n",
      " ['f' 'f' 'f' 'f']]\n"
     ]
    }
   ],
   "source": [
    "#full(row,column,value for all elements)\n",
    "a = np.full((3,4),\"f\")\n",
    "print(a)"
   ]
  },
  {
   "cell_type": "code",
   "execution_count": 53,
   "metadata": {},
   "outputs": [
    {
     "name": "stdout",
     "output_type": "stream",
     "text": [
      "[[0.72543214 0.77735739 0.72359362 0.81521007]\n",
      " [0.71173751 0.12883743 0.21190499 0.06909741]\n",
      " [0.15862651 0.73136503 0.76404402 0.42322564]]\n",
      "[[8 6 6 4]\n",
      " [4 4 4 3]\n",
      " [4 3 6 5]]\n"
     ]
    }
   ],
   "source": [
    "#random.rand(row,column)\n",
    "#random.randint(start value,end value,(row,column))\n",
    "a = np.random.rand(3,4)\n",
    "b = np.random.randint(3,9,(3,4))\n",
    "print(a)\n",
    "print(b)"
   ]
  },
  {
   "cell_type": "code",
   "execution_count": 21,
   "metadata": {},
   "outputs": [
    {
     "name": "stdout",
     "output_type": "stream",
     "text": [
      "[[1 2 3]\n",
      " [4 5 6]]\n"
     ]
    }
   ],
   "source": [
    "a = np.array([[1,2,3],[4,5,6]])\n",
    "print(a)"
   ]
  },
  {
   "cell_type": "code",
   "execution_count": 22,
   "metadata": {},
   "outputs": [
    {
     "name": "stdout",
     "output_type": "stream",
     "text": [
      "(2, 3)\n"
     ]
    }
   ],
   "source": [
    "#array.shape gives (no of row,no of column) in a tuple form\n",
    "print(a.shape)"
   ]
  },
  {
   "cell_type": "code",
   "execution_count": 23,
   "metadata": {},
   "outputs": [
    {
     "name": "stdout",
     "output_type": "stream",
     "text": [
      "[[1]\n",
      " [2]\n",
      " [3]\n",
      " [4]\n",
      " [5]\n",
      " [6]]\n"
     ]
    }
   ],
   "source": [
    "#we can also change the shape\n",
    "a.shape=(6,1)\n",
    "print(a)"
   ]
  },
  {
   "cell_type": "code",
   "execution_count": 24,
   "metadata": {},
   "outputs": [
    {
     "name": "stdout",
     "output_type": "stream",
     "text": [
      "2\n"
     ]
    }
   ],
   "source": [
    "#ndim gives dimension of an array\n",
    "print(a.ndim)"
   ]
  },
  {
   "cell_type": "code",
   "execution_count": 27,
   "metadata": {},
   "outputs": [
    {
     "name": "stdout",
     "output_type": "stream",
     "text": [
      "int32\n"
     ]
    }
   ],
   "source": [
    "#dtype gives the datatype of the array\n",
    "print(a.dtype)"
   ]
  },
  {
   "cell_type": "code",
   "execution_count": 38,
   "metadata": {},
   "outputs": [],
   "source": [
    "a = np.array([2,4])"
   ]
  },
  {
   "cell_type": "code",
   "execution_count": 40,
   "metadata": {},
   "outputs": [
    {
     "name": "stdout",
     "output_type": "stream",
     "text": [
      "6\n",
      "2\n",
      "8\n",
      "2.0\n"
     ]
    }
   ],
   "source": [
    "#arithmtic operations\n",
    "print(np.sum(a))\n",
    "print(np.subtract(a[1],a[0]))\n",
    "print(np.multiply(a[0],a[1]))\n",
    "print(np.divide(a[1],a[0]))"
   ]
  },
  {
   "cell_type": "code",
   "execution_count": 79,
   "metadata": {},
   "outputs": [
    {
     "name": "stdout",
     "output_type": "stream",
     "text": [
      "[1 2 3]\n",
      "[4 5 6]\n",
      "\n",
      "[ 6 15]\n",
      "[5 7 9]\n",
      "[ 4 10 18]\n"
     ]
    }
   ],
   "source": [
    "#axis = 1 is a column wise calculation for sum and sub only\n",
    "#axis = 0 is a  row wise calculation for sum and sub only\n",
    "\n",
    "a = np.array([1,2,3])\n",
    "b = np.array([4,5,6])\n",
    "print(a)\n",
    "print(b)\n",
    "print()\n",
    "print(np.sum([a,b],axis=1))\n",
    "print(np.sum([a,b],axis=0))\n",
    "print(np.multiply(a,b))"
   ]
  },
  {
   "cell_type": "code",
   "execution_count": 55,
   "metadata": {},
   "outputs": [
    {
     "name": "stdout",
     "output_type": "stream",
     "text": [
      "[ True False False  True]\n",
      "False\n"
     ]
    }
   ],
   "source": [
    "#equal(first array , second array)checks column wise\n",
    "#array_equal(first array,second array)checks whole array\n",
    "a=np.array([1,2,3,4])\n",
    "b=np.array([1,3,6,4])\n",
    "print(np.equal(a,b))\n",
    "print(np.array_equal(a,b))"
   ]
  },
  {
   "cell_type": "code",
   "execution_count": 67,
   "metadata": {},
   "outputs": [
    {
     "name": "stdout",
     "output_type": "stream",
     "text": [
      "3.5\n",
      "3.5\n",
      "1.0\n",
      "1.707825127659933\n",
      "1\n",
      "6\n"
     ]
    }
   ],
   "source": [
    "#aggrigate functions\n",
    "a = np.array([1,2,3,4,5,6])\n",
    "\n",
    "print(np.mean(a))\n",
    "print(np.median(a))\n",
    "print(np.corrcoef(a))\n",
    "print(np.std(a))\n",
    "print(np.min(a))\n",
    "print(np.max(a))"
   ]
  },
  {
   "cell_type": "code",
   "execution_count": 78,
   "metadata": {},
   "outputs": [
    {
     "name": "stdout",
     "output_type": "stream",
     "text": [
      "[[1 2 3]\n",
      " [4 5 6]\n",
      " [7 6 5]]\n",
      "\n",
      "[[9 8 7]]\n",
      "\n",
      "[[10 10 10]\n",
      " [13 13 13]\n",
      " [16 14 12]]\n",
      "\n",
      "[[ 9 16 21]\n",
      " [36 40 42]\n",
      " [63 48 35]]\n"
     ]
    }
   ],
   "source": [
    "#array broadcasting[concept]\n",
    "#a = 3,3 matrix b = 1,3 and the b is extended to 3,3 matrix with the same element for operation this is known as broadasting  \n",
    "a = np.array([[1,2,3],[4,5,6],[7,6,5]])\n",
    "b = np.array([[9,8,7]])\n",
    "print(a)\n",
    "print()\n",
    "print(b)\n",
    "print()\n",
    "print(np.sum([a,b]))\n",
    "print()\n",
    "print(np.multiply(a,b))"
   ]
  },
  {
   "cell_type": "code",
   "execution_count": 83,
   "metadata": {},
   "outputs": [
    {
     "name": "stdout",
     "output_type": "stream",
     "text": [
      "[[1 2 3 4]\n",
      " [5 6 7 8]\n",
      " [0 9 8 7]\n",
      " [6 5 4 3]]\n",
      "\n",
      "[[1 2 3 4 0 9 8 7]\n",
      " [5 6 7 8 6 5 4 3]]\n"
     ]
    }
   ],
   "source": [
    "#concatenate(first array,second array)\n",
    "\n",
    "a=np.array([[1,2,3,4],[5,6,7,8]])\n",
    "b=np.array([[0,9,8,7],[6,5,4,3]])\n",
    "\n",
    "print(np.concatenate([a,b],axis=0))\n",
    "print()\n",
    "print(np.concatenate([a,b],axis=1))"
   ]
  },
  {
   "cell_type": "code",
   "execution_count": 22,
   "metadata": {},
   "outputs": [
    {
     "name": "stdout",
     "output_type": "stream",
     "text": [
      "a [[1 2 3 4]\n",
      " [5 6 7 8]]\n",
      "b [[0 9 8 7]\n",
      " [6 5 4 3]]\n",
      "\n",
      "stack by row [[[1 2 3 4]\n",
      "  [5 6 7 8]]\n",
      "\n",
      " [[0 9 8 7]\n",
      "  [6 5 4 3]]]\n",
      "\n",
      "vertical [[1 2 3 4]\n",
      " [5 6 7 8]\n",
      " [0 9 8 7]\n",
      " [6 5 4 3]]\n",
      "\n",
      "stack by column [[[1 2 3 4]\n",
      "  [0 9 8 7]]\n",
      "\n",
      " [[5 6 7 8]\n",
      "  [6 5 4 3]]]\n",
      "\n",
      "horizontal [[1 2 3 4 0 9 8 7]\n",
      " [5 6 7 8 6 5 4 3]]\n"
     ]
    }
   ],
   "source": [
    "#normal stacking by rows and vertical stack\n",
    "print('a',a)\n",
    "print('b',b)\n",
    "print()\n",
    "print('stack by row',np.stack((a,b),axis=0))\n",
    "print()\n",
    "print('vertical',np.vstack([a,b]))\n",
    "print()\n",
    "#normal stacking by column and horizontal stacknig\n",
    "print('stack by column',np.stack((a,b),axis=1))\n",
    "print()\n",
    "print('horizontal',np.hstack([a,b]))"
   ]
  },
  {
   "cell_type": "code",
   "execution_count": 24,
   "metadata": {},
   "outputs": [
    {
     "name": "stdout",
     "output_type": "stream",
     "text": [
      "[[1 2 3 4]\n",
      " [5 6 7 8]]\n",
      "[1 2 3 4 5 6 7 8]\n"
     ]
    }
   ],
   "source": [
    "#ravel(array name) = function that brings every element into 1 row\n",
    "print(a)\n",
    "print(a.ravel())\n"
   ]
  },
  {
   "cell_type": "code",
   "execution_count": 35,
   "metadata": {},
   "outputs": [
    {
     "name": "stdout",
     "output_type": "stream",
     "text": [
      "[[ 1  2  3  4  5  6  7  8  9 10]\n",
      " [11 12 13 14 15 16 17 18 19 20]]\n",
      "\n",
      "[12 14 16 18]\n"
     ]
    }
   ],
   "source": [
    "#fetch elements by interval\n",
    "a=np.array([[1,2,3,4,5,6,7,8,9,10],[11,12,13,14,15,16,17,18,19,20]])\n",
    "print(a)\n",
    "print()\n",
    "print(a[1,1:-1:2])"
   ]
  },
  {
   "cell_type": "code",
   "execution_count": 38,
   "metadata": {},
   "outputs": [
    {
     "name": "stdout",
     "output_type": "stream",
     "text": [
      "[[[1 2]\n",
      "  [3 4]]\n",
      "\n",
      " [[5 6]\n",
      "  [6 7]]]\n"
     ]
    }
   ],
   "source": [
    "#3d array\n",
    "a=np.array([[[1,2],[3,4]],[[5,6],[6,7]]])\n",
    "print(a)"
   ]
  },
  {
   "cell_type": "code",
   "execution_count": 43,
   "metadata": {},
   "outputs": [
    {
     "name": "stdout",
     "output_type": "stream",
     "text": [
      "[[[11 12]\n",
      "  [ 3  4]]\n",
      "\n",
      " [[ 5  6]\n",
      "  [ 8  9]]]\n"
     ]
    }
   ],
   "source": [
    "#indexing in 3d array\n",
    "a[1,1]=[8,9]\n",
    "a[0,0]=[11,12]\n",
    "print(a)"
   ]
  },
  {
   "cell_type": "code",
   "execution_count": 56,
   "metadata": {},
   "outputs": [
    {
     "data": {
      "text/plain": [
       "array([[1., 0., 0., 0., 0.],\n",
       "       [0., 1., 0., 0., 0.],\n",
       "       [0., 0., 1., 0., 0.],\n",
       "       [0., 0., 0., 1., 0.],\n",
       "       [0., 0., 0., 0., 1.]])"
      ]
     },
     "execution_count": 56,
     "metadata": {},
     "output_type": "execute_result"
    }
   ],
   "source": [
    "#identity(integer) = it gives a square matrix \n",
    "np.identity(5)"
   ]
  },
  {
   "cell_type": "code",
   "execution_count": 65,
   "metadata": {},
   "outputs": [
    {
     "name": "stdout",
     "output_type": "stream",
     "text": [
      "[[1 1 1 2 2 2 3 3 3]\n",
      " [1 1 1 2 2 2 3 3 3]]\n"
     ]
    }
   ],
   "source": [
    "#repeat(array,no of times to be repeated,axis if needed)\n",
    "a= np.array([[1,2,3],[1,2,3]])\n",
    "print(np.repeat(a,3,axis=1))"
   ]
  },
  {
   "cell_type": "code",
   "execution_count": 76,
   "metadata": {},
   "outputs": [
    {
     "name": "stdout",
     "output_type": "stream",
     "text": [
      "[[1. 1. 1. 1.]\n",
      " [1. 1. 1. 1.]\n",
      " [1. 1. 1. 1.]\n",
      " [1. 1. 1. 1.]]\n",
      "[[1. 1. 1. 1.]\n",
      " [1. 5. 6. 1.]\n",
      " [1. 7. 8. 1.]\n",
      " [1. 1. 1. 1.]]\n"
     ]
    }
   ],
   "source": [
    "#simple sum [we need center elements to be 5,6,7,8]\n",
    "\n",
    "a = np.ones([4,4])\n",
    "print(a)\n",
    "\n",
    "a[1:3,1:3]=np.array([[5,6],[7,8]])\n",
    "print(a)"
   ]
  },
  {
   "cell_type": "code",
   "execution_count": 85,
   "metadata": {},
   "outputs": [
    {
     "data": {
      "text/plain": [
       "1.0"
      ]
     },
     "execution_count": 85,
     "metadata": {},
     "output_type": "execute_result"
    }
   ],
   "source": [
    "#determinant of a identity matrix is one[linear algebra] only for a square matrix\n",
    "a = np.identity(4)\n",
    "np.linalg.det(a)"
   ]
  },
  {
   "cell_type": "code",
   "execution_count": 92,
   "metadata": {},
   "outputs": [
    {
     "name": "stdout",
     "output_type": "stream",
     "text": [
      "[[1. 0. 0. 0.]\n",
      " [0. 1. 0. 0.]\n",
      " [0. 0. 1. 0.]\n",
      " [0. 0. 0. 1.]]\n",
      "[[[[1. 0.]\n",
      "   [0. 0.]]\n",
      "\n",
      "  [[0. 1.]\n",
      "   [0. 0.]]]\n",
      "\n",
      "\n",
      " [[[0. 0.]\n",
      "   [1. 0.]]\n",
      "\n",
      "  [[0. 0.]\n",
      "   [0. 1.]]]]\n"
     ]
    }
   ],
   "source": [
    "#reshape(row,column)\n",
    "print(a)\n",
    "print(a.reshape(2,2,2,2))"
   ]
  },
  {
   "cell_type": "code",
   "execution_count": 115,
   "metadata": {},
   "outputs": [
    {
     "data": {
      "text/plain": [
       "array([[ 1,  2,  3,  4,  5,  6,  7,  8,  9, 10],\n",
       "       [11, 12, 13, 14, 15, 16, 17, 18, 19, 20],\n",
       "       [21, 22, 23, 24, 25, 26, 27, 28, 29, 30]])"
      ]
     },
     "execution_count": 115,
     "metadata": {},
     "output_type": "execute_result"
    }
   ],
   "source": [
    "#bringig fie into numpy \n",
    "os.chdir('C:/Users/safia/OneDrive/Desktop')#chdir is change directory from os package \n",
    "file = np.genfromtxt('demo.txt',delimiter=',')\n",
    "file.astype('int32')#changes datatype"
   ]
  },
  {
   "cell_type": "code",
   "execution_count": 116,
   "metadata": {},
   "outputs": [
    {
     "name": "stdout",
     "output_type": "stream",
     "text": [
      "[[ 1.  2.]\n",
      " [ 3.  4.]\n",
      " [ 5.  6.]\n",
      " [ 7.  8.]\n",
      " [ 9. 10.]\n",
      " [11. 12.]\n",
      " [13. 14.]\n",
      " [15. 16.]\n",
      " [17. 18.]\n",
      " [19. 20.]\n",
      " [21. 22.]\n",
      " [23. 24.]\n",
      " [25. 26.]\n",
      " [27. 28.]\n",
      " [29. 30.]]\n"
     ]
    }
   ],
   "source": [
    "print(file.reshape(15,2))"
   ]
  },
  {
   "cell_type": "code",
   "execution_count": 124,
   "metadata": {},
   "outputs": [
    {
     "data": {
      "text/plain": [
       "array([[False, False, False, False, False, False, False, False, False,\n",
       "        False],\n",
       "       [False, False, False, False, False,  True,  True,  True,  True,\n",
       "         True],\n",
       "       [ True,  True,  True,  True,  True,  True,  True,  True,  True,\n",
       "         True]])"
      ]
     },
     "execution_count": 124,
     "metadata": {},
     "output_type": "execute_result"
    }
   ],
   "source": [
    "#print file wit restrictions\n",
    "file > 15 "
   ]
  },
  {
   "cell_type": "code",
   "execution_count": 125,
   "metadata": {},
   "outputs": [
    {
     "data": {
      "text/plain": [
       "array([16, 17, 18, 19, 20, 21, 22, 23, 24, 25, 26, 27, 28, 29, 30])"
      ]
     },
     "execution_count": 125,
     "metadata": {},
     "output_type": "execute_result"
    }
   ],
   "source": [
    "file[file > 15].astype('int32')"
   ]
  },
  {
   "cell_type": "code",
   "execution_count": 132,
   "metadata": {},
   "outputs": [
    {
     "name": "stdout",
     "output_type": "stream",
     "text": [
      "[[ 1  2  3  4  5  6  7  8  9 10]\n",
      " [11 12 13 14 15 16 17 18 19 20]\n",
      " [21 22 23 24 25 26 27 28 29 30]]\n"
     ]
    },
    {
     "data": {
      "text/plain": [
       "array([False, False,  True])"
      ]
     },
     "execution_count": 132,
     "metadata": {},
     "output_type": "execute_result"
    }
   ],
   "source": [
    "#checking condition \n",
    "print(file.astype('int32'))\n",
    "np.any(file > 25,axis =0)#if axis is not given check the total file and gives only one ouput\n",
    "np.all(file >= 21,axis=1)"
   ]
  },
  {
   "cell_type": "code",
   "execution_count": null,
   "metadata": {},
   "outputs": [],
   "source": []
  }
 ],
 "metadata": {
  "kernelspec": {
   "display_name": "Python 3",
   "language": "python",
   "name": "python3"
  },
  "language_info": {
   "codemirror_mode": {
    "name": "ipython",
    "version": 3
   },
   "file_extension": ".py",
   "mimetype": "text/x-python",
   "name": "python",
   "nbconvert_exporter": "python",
   "pygments_lexer": "ipython3",
   "version": "3.7.6"
  }
 },
 "nbformat": 4,
 "nbformat_minor": 4
}
