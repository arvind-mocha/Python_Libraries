{
 "cells": [
  {
   "cell_type": "markdown",
   "metadata": {},
   "source": [
    "# SYS PACKAGE"
   ]
  },
  {
   "cell_type": "code",
   "execution_count": 10,
   "metadata": {},
   "outputs": [],
   "source": [
    "import sys"
   ]
  },
  {
   "cell_type": "code",
   "execution_count": 11,
   "metadata": {},
   "outputs": [
    {
     "name": "stdout",
     "output_type": "stream",
     "text": [
      "hello how are you"
     ]
    },
    {
     "name": "stderr",
     "output_type": "stream",
     "text": [
      "hi am fine"
     ]
    }
   ],
   "source": [
    "#printing using stderr and stdout instead of print()\n",
    "sys.stdout.write('hello how are you')\n",
    "sys.stderr.write('hi am fine')\n",
    "#stderr and stdout are buffers which means they are stored in temprovary memory"
   ]
  },
  {
   "cell_type": "code",
   "execution_count": 12,
   "metadata": {},
   "outputs": [
    {
     "name": "stdout",
     "output_type": "stream",
     "text": [
      "hello how are you i am arvind"
     ]
    },
    {
     "name": "stderr",
     "output_type": "stream",
     "text": [
      "hi am fine you fool"
     ]
    }
   ],
   "source": [
    "#promblems in stderr and stdout\n",
    "sys.stdout.write('hello how are you ')\n",
    "sys.stderr.write('hi am fine ')\n",
    "sys.stdout.write('i am arvind')\n",
    "sys.stderr.write('you fool')\n",
    "#they all occupy the same space because buffer has only one temporavary memory for each functions\n",
    "#stderr is stored in a buffer and err means error which prints in red\n",
    "#stdout is stored in a buffer\n",
    "#this is the difference between the print statement and sys statments"
   ]
  },
  {
   "cell_type": "code",
   "execution_count": 13,
   "metadata": {},
   "outputs": [
    {
     "name": "stdout",
     "output_type": "stream",
     "text": [
      "hello how are you "
     ]
    },
    {
     "name": "stderr",
     "output_type": "stream",
     "text": [
      "hi am fine "
     ]
    },
    {
     "name": "stdout",
     "output_type": "stream",
     "text": [
      "i am arvind"
     ]
    },
    {
     "name": "stderr",
     "output_type": "stream",
     "text": [
      "you fool"
     ]
    }
   ],
   "source": [
    "#so to prevent this we need to clean the buffer everytime \n",
    "#flush is a function used to clear the buffer \n",
    "sys.stdout.write('hello how are you ')\n",
    "sys.stderr.write('hi am fine ')\n",
    "sys.stdout.flush()\n",
    "sys.stderr.flush()\n",
    "sys.stdout.write('i am arvind')\n",
    "sys.stderr.write('you fool')"
   ]
  },
  {
   "cell_type": "code",
   "execution_count": 14,
   "metadata": {},
   "outputs": [
    {
     "name": "stdout",
     "output_type": "stream",
     "text": [
      "C:\\Users\\safia\n"
     ]
    }
   ],
   "source": [
    "import os\n",
    "os.chdir(os.getcwd())\n",
    "print(os.getcwd())"
   ]
  },
  {
   "cell_type": "code",
   "execution_count": 15,
   "metadata": {},
   "outputs": [
    {
     "name": "stdout",
     "output_type": "stream",
     "text": [
      "argvexample.py\n",
      "hi\n",
      "my\n",
      "friend\n"
     ]
    }
   ],
   "source": [
    "#to communicate with cmd\n",
    "!python argvexample.py hi my friend"
   ]
  },
  {
   "cell_type": "code",
   "execution_count": 17,
   "metadata": {},
   "outputs": [
    {
     "data": {
      "text/plain": [
       "'Copyright (c) 2001-2019 Python Software Foundation.\\nAll Rights Reserved.\\n\\nCopyright (c) 2000 BeOpen.com.\\nAll Rights Reserved.\\n\\nCopyright (c) 1995-2001 Corporation for National Research Initiatives.\\nAll Rights Reserved.\\n\\nCopyright (c) 1991-1995 Stichting Mathematisch Centrum, Amsterdam.\\nAll Rights Reserved.'"
      ]
     },
     "execution_count": 17,
     "metadata": {},
     "output_type": "execute_result"
    }
   ],
   "source": [
    "sys.copyright"
   ]
  },
  {
   "cell_type": "code",
   "execution_count": 19,
   "metadata": {},
   "outputs": [
    {
     "data": {
      "text/plain": [
       "'C:\\\\Users\\\\safia\\\\anaconda3\\\\python.exe'"
      ]
     },
     "execution_count": 19,
     "metadata": {},
     "output_type": "execute_result"
    }
   ],
   "source": [
    "#to get the path of current software\n",
    "sys.executable"
   ]
  },
  {
   "cell_type": "code",
   "execution_count": 23,
   "metadata": {},
   "outputs": [
    {
     "data": {
      "text/plain": [
       "100"
      ]
     },
     "execution_count": 23,
     "metadata": {},
     "output_type": "execute_result"
    }
   ],
   "source": [
    "#to get the recursion limit\n",
    "sys.getrecursionlimit()"
   ]
  },
  {
   "cell_type": "code",
   "execution_count": 22,
   "metadata": {},
   "outputs": [],
   "source": [
    "#to set the recursion limit\n",
    "sys.setrecursionlimit(100)"
   ]
  },
  {
   "cell_type": "code",
   "execution_count": 34,
   "metadata": {},
   "outputs": [
    {
     "data": {
      "text/plain": [
       "0.005"
      ]
     },
     "execution_count": 34,
     "metadata": {},
     "output_type": "execute_result"
    }
   ],
   "source": [
    "#to get interval of threads\n",
    "sys.getswitchinterval()"
   ]
  },
  {
   "cell_type": "code",
   "execution_count": 29,
   "metadata": {},
   "outputs": [
    {
     "data": {
      "text/plain": [
       "{11888: <frame at 0x000001DD9376A0C8, file 'C:\\\\Users\\\\safia\\\\anaconda3\\\\lib\\\\site-packages\\\\ipykernel\\\\parentpoller.py', line 97, code run>,\n",
       " 8608: <frame at 0x000001DD955596E8, file 'C:\\\\Users\\\\safia\\\\anaconda3\\\\lib\\\\threading.py', line 296, code wait>,\n",
       " 13772: <frame at 0x000001DD958759F8, file 'C:\\\\Users\\\\safia\\\\anaconda3\\\\lib\\\\site-packages\\\\ipykernel\\\\heartbeat.py', line 100, code run>,\n",
       " 592: <frame at 0x000001DD95948248, file 'C:\\\\Users\\\\safia\\\\anaconda3\\\\lib\\\\selectors.py', line 314, code _select>,\n",
       " 10168: <frame at 0x000001DD959EE248, file '<ipython-input-29-7750e22009c1>', line 1, code <module>>}"
      ]
     },
     "execution_count": 29,
     "metadata": {},
     "output_type": "execute_result"
    }
   ],
   "source": [
    "sys._current_frames()"
   ]
  },
  {
   "cell_type": "code",
   "execution_count": 36,
   "metadata": {},
   "outputs": [
    {
     "data": {
      "text/plain": [
       "sys.getwindowsversion(major=10, minor=0, build=18363, platform=2, service_pack='')"
      ]
     },
     "execution_count": 36,
     "metadata": {},
     "output_type": "execute_result"
    }
   ],
   "source": [
    "sys.getwindowsversion()"
   ]
  },
  {
   "cell_type": "code",
   "execution_count": null,
   "metadata": {},
   "outputs": [],
   "source": []
  }
 ],
 "metadata": {
  "kernelspec": {
   "display_name": "Python 3",
   "language": "python",
   "name": "python3"
  },
  "language_info": {
   "codemirror_mode": {
    "name": "ipython",
    "version": 3
   },
   "file_extension": ".py",
   "mimetype": "text/x-python",
   "name": "python",
   "nbconvert_exporter": "python",
   "pygments_lexer": "ipython3",
   "version": "3.7.6"
  }
 },
 "nbformat": 4,
 "nbformat_minor": 4
}
