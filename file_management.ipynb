{
 "cells": [
  {
   "cell_type": "markdown",
   "metadata": {},
   "source": [
    "# FILE MANAGEMENT"
   ]
  },
  {
   "cell_type": "code",
   "execution_count": 6,
   "metadata": {},
   "outputs": [
    {
     "name": "stdout",
     "output_type": "stream",
     "text": [
      "content: hi my name is arvind\n",
      "i love to play any kind of games\n",
      "do you love me\n",
      "do you do you\n",
      "mode: r\n",
      "filename: filemanagement\n",
      "True\n"
     ]
    }
   ],
   "source": [
    "#opening a file\n",
    "f = open('filemanagement','r')\n",
    "\n",
    "print('content:',f.read())#to read the content\n",
    "print('mode:',f.mode)#to check mode like read ,write ,append\n",
    "print('filename:',f.name)#to get the name o the file\n",
    "\n",
    "f.close()\n",
    "print(f.closed)#to check weather file is closed"
   ]
  },
  {
   "cell_type": "code",
   "execution_count": 7,
   "metadata": {},
   "outputs": [],
   "source": [
    "#context manager[with]\n",
    "#it is better to use with since it automatically closes \n",
    "#the file since it as a scope"
   ]
  },
  {
   "cell_type": "code",
   "execution_count": 10,
   "metadata": {},
   "outputs": [
    {
     "name": "stdout",
     "output_type": "stream",
     "text": [
      "['hi my name is arvind\\n', 'i love to play any kind of games\\n', 'do you love me\\n', 'do you do you']\n"
     ]
    }
   ],
   "source": [
    "#what if you dont want to bring all content into the memory\n",
    "#and wate it instead you can bring it line by line into memory\n",
    "with open('filemanagement','r') as f:\n",
    "    print(f.readlines())"
   ]
  },
  {
   "cell_type": "code",
   "execution_count": 16,
   "metadata": {},
   "outputs": [
    {
     "name": "stdout",
     "output_type": "stream",
     "text": [
      "hi my name is arvind\n",
      "i love to play any kind of games\n",
      "\n"
     ]
    }
   ],
   "source": [
    "#what if you also want to print line by line\n",
    "#readline not readlines\n",
    "\n",
    "with open('filemanagement','r') as f:\n",
    "    print(f.readline(),end=\"\")\n",
    "    print(f.readline())"
   ]
  },
  {
   "cell_type": "code",
   "execution_count": 24,
   "metadata": {},
   "outputs": [
    {
     "name": "stdout",
     "output_type": "stream",
     "text": [
      "hi my name is arvind\n",
      "current index: 21\n",
      "current index: 0\n",
      "hi my name is arvind\n"
     ]
    }
   ],
   "source": [
    "#what if you want to stay at the same index for each realine\n",
    "with open('filemanagement','r') as f:\n",
    "    print(f.readline(),end=\"\")\n",
    "    print('current index:',f.tell())#it is used to find the current index\n",
    "    f.seek(0)\n",
    "    print('current index:',f.tell())\n",
    "    print(f.readline(),end=\"\")"
   ]
  },
  {
   "cell_type": "code",
   "execution_count": 33,
   "metadata": {},
   "outputs": [
    {
     "name": "stdout",
     "output_type": "stream",
     "text": [
      "hi my name \n",
      "hi my name is arvind\n",
      "i love to\n"
     ]
    }
   ],
   "source": [
    "#what if you want complete control over your content\n",
    "with open('filemanagement','r') as f:\n",
    "    print(f.read(11))\n",
    "    f.seek(0)\n",
    "    print(f.read(20),end=\"\")\n",
    "    print(f.read(10))\n",
    "#if your size exceeds then it returns none"
   ]
  },
  {
   "cell_type": "code",
   "execution_count": 34,
   "metadata": {},
   "outputs": [
    {
     "name": "stdout",
     "output_type": "stream",
     "text": [
      "hi my name* is arvind*\n",
      "i love to* play any *kind of ga*mes\n",
      "do you* love me\n",
      "d*o you do y*ou*"
     ]
    }
   ],
   "source": [
    "#for more detail\n",
    "with open('filemanagement','r') as f:\n",
    "    size_to_read=10\n",
    "    content = f.read(size_to_read)\n",
    "    \n",
    "    while len(content) > 0:\n",
    "        print(content,end=\"*\")\n",
    "        content = f.read(size_to_read)\n",
    "        \n",
    "#here the while loop must be infinite but since when \n",
    "#the size exceeds read automatically returns none which is 0\n",
    "#so the loop ends"
   ]
  },
  {
   "cell_type": "code",
   "execution_count": 36,
   "metadata": {},
   "outputs": [],
   "source": [
    "#write mode. when you write on a existing file its is overrided\n",
    "with open('filemanagement','w') as f:\n",
    "    f.write('''hi my name is arvind\n",
    "i love to play any kind of games\n",
    "do you love me\n",
    "do you do you''')"
   ]
  },
  {
   "cell_type": "code",
   "execution_count": 39,
   "metadata": {},
   "outputs": [],
   "source": [
    "#so if you need to add content then append\n",
    "with open('filemanagement','a') as f:\n",
    "    f.write(' do you love me')"
   ]
  },
  {
   "cell_type": "code",
   "execution_count": 42,
   "metadata": {},
   "outputs": [],
   "source": [
    "#what if you want to read as well as write\n",
    "with open('filemanagement','r') as rf:\n",
    "    with open('copyfile','w') as wf:#if you dont have that file then in write mode a new file is created\n",
    "        wf.write(rf.read())"
   ]
  },
  {
   "cell_type": "code",
   "execution_count": null,
   "metadata": {},
   "outputs": [],
   "source": [
    "#for more info refer filehandleing in pycharm "
   ]
  }
 ],
 "metadata": {
  "kernelspec": {
   "display_name": "Python 3",
   "language": "python",
   "name": "python3"
  },
  "language_info": {
   "codemirror_mode": {
    "name": "ipython",
    "version": 3
   },
   "file_extension": ".py",
   "mimetype": "text/x-python",
   "name": "python",
   "nbconvert_exporter": "python",
   "pygments_lexer": "ipython3",
   "version": "3.7.6"
  }
 },
 "nbformat": 4,
 "nbformat_minor": 4
}
