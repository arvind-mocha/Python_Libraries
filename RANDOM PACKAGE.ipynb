{
 "cells": [
  {
   "cell_type": "markdown",
   "metadata": {},
   "source": [
    "# RANDOM PACKAGE"
   ]
  },
  {
   "cell_type": "code",
   "execution_count": 1,
   "metadata": {},
   "outputs": [],
   "source": [
    "import random as rm"
   ]
  },
  {
   "cell_type": "code",
   "execution_count": 7,
   "metadata": {},
   "outputs": [
    {
     "name": "stdout",
     "output_type": "stream",
     "text": [
      "0.38495824941684875\n"
     ]
    }
   ],
   "source": [
    "#to get any random number\n",
    "print(rm.random())"
   ]
  },
  {
   "cell_type": "code",
   "execution_count": 4,
   "metadata": {},
   "outputs": [
    {
     "name": "stdout",
     "output_type": "stream",
     "text": [
      "2\n",
      "5\n",
      "2\n",
      "2\n",
      "6\n",
      "5\n",
      "2\n",
      "2\n",
      "2\n",
      "3\n"
     ]
    }
   ],
   "source": [
    "#to print random float number between a range\n",
    "for i in range(10):\n",
    "    print(int(rm.uniform(1,10)))"
   ]
  },
  {
   "cell_type": "code",
   "execution_count": 14,
   "metadata": {},
   "outputs": [
    {
     "name": "stdout",
     "output_type": "stream",
     "text": [
      "3\n",
      "7\n",
      "6\n",
      "10\n",
      "5\n",
      "7\n",
      "5\n",
      "9\n",
      "5\n",
      "4\n"
     ]
    }
   ],
   "source": [
    "#to get a random integer\n",
    "for i in range(10):\n",
    "    print(rm.randint(1,10))"
   ]
  },
  {
   "cell_type": "code",
   "execution_count": 23,
   "metadata": {},
   "outputs": [
    {
     "name": "stdout",
     "output_type": "stream",
     "text": [
      "hi bala\n"
     ]
    }
   ],
   "source": [
    "#to get random values from list\n",
    "name = ['arvind','ashok','chandru','bharath','bala','esaki']\n",
    "\n",
    "print('hi',rm.choice(name))"
   ]
  },
  {
   "cell_type": "code",
   "execution_count": 31,
   "metadata": {},
   "outputs": [
    {
     "name": "stdout",
     "output_type": "stream",
     "text": [
      "['chandru', 'arvind', 'bala', 'bharath', 'chandru', 'chandru', 'ashok', 'arvind', 'chandru', 'chandru', 'arvind', 'chandru', 'esaki', 'esaki', 'bala', 'chandru', 'chandru', 'esaki', 'bala', 'bharath']\n"
     ]
    }
   ],
   "source": [
    "#if you want to get n no ofrandom values only from the list\n",
    "#but it can select same value multiple times\n",
    "print(rm.choices(import time\n",
    "def sum_of_n_numbers(n):\n",
    "    start_time = time.time()\n",
    "    s = 0\n",
    "    for i in range(1,n+1):\n",
    "        s = s + i\n",
    "    end_time = time.time()\n",
    "    return s,end_time-start_time\n",
    "\n",
    "n = 5\n",
    "print(\"\\nTime to sum of 1 to \",n,\" and required time to calculate is :\",sum_of_n_numbers(n))\n",
    "))\n",
    "\n",
    "#so how it works\n",
    "\n",
    "#K tells how many times random values from the list need to be printed\n",
    "#weights tells the weightage of each value from the list that of values "
   ]
  },
  {
   "cell_type": "code",
   "execution_count": 49,
   "metadata": {},
   "outputs": [
    {
     "name": "stdout",
     "output_type": "stream",
     "text": [
      "[11, 13, 21, 2, 48, 27, 17, 46, 5, 43, 20, 45, 40]\n"
     ]
    }
   ],
   "source": [
    "# #if you want to get n no of random values only from the list\n",
    "#and the random value must not be identical\n",
    "cards = list(range(1,53))\n",
    "print(rm.sample(cards,k = 13))"
   ]
  },
  {
   "cell_type": "code",
   "execution_count": 45,
   "metadata": {},
   "outputs": [
    {
     "name": "stdout",
     "output_type": "stream",
     "text": [
      "[1, 2, 3, 4, 5, 6, 7, 8, 9, 10, 11, 12, 13, 14, 15, 16, 17, 18, 19, 20, 21, 22, 23, 24, 25, 26, 27, 28, 29, 30, 31, 32, 33, 34, 35, 36, 37, 38, 39, 40, 41, 42, 43, 44, 45, 46, 47, 48, 49, 50, 51, 52]\n",
      "\n",
      "[46, 29, 12, 42, 21, 8, 17, 48, 52, 27, 36, 13, 32, 22, 43, 34, 11, 15, 24, 16, 45, 20, 3, 10, 49, 37, 2, 14, 41, 25, 50, 1, 5, 38, 7, 47, 26, 33, 28, 6, 31, 9, 19, 51, 23, 35, 39, 30, 4, 40, 44, 18]\n"
     ]
    }
   ],
   "source": [
    "#to shuffle a list randomly\n",
    "print(cards)\n",
    "print()\n",
    "rm.shuffle(cards)\n",
    "print(cards)"
   ]
  },
  {
   "cell_type": "code",
   "execution_count": 55,
   "metadata": {},
   "outputs": [
    {
     "name": "stdout",
     "output_type": "stream",
     "text": [
      "sum of 1 to 5 and required time to calculate is : (15, 1589043441.5447369)\n"
     ]
    }
   ],
   "source": []
  },
  {
   "cell_type": "code",
   "execution_count": null,
   "metadata": {},
   "outputs": [],
   "source": []
  }
 ],
 "metadata": {
  "kernelspec": {
   "display_name": "Python 3",
   "language": "python",
   "name": "python3"
  },
  "language_info": {
   "codemirror_mode": {
    "name": "ipython",
    "version": 3
   },
   "file_extension": ".py",
   "mimetype": "text/x-python",
   "name": "python",
   "nbconvert_exporter": "python",
   "pygments_lexer": "ipython3",
   "version": "3.7.6"
  }
 },
 "nbformat": 4,
 "nbformat_minor": 4
}
