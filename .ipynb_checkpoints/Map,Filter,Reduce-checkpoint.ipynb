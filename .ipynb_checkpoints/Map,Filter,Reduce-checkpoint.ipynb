{
 "cells": [
  {
   "cell_type": "markdown",
   "metadata": {},
   "source": [
    "# MAP"
   ]
  },
  {
   "cell_type": "code",
   "execution_count": 1,
   "metadata": {},
   "outputs": [],
   "source": [
    "#map take two argumnts map(function,iterables)\n",
    "#iterables are list ,tuple,set ect"
   ]
  },
  {
   "cell_type": "code",
   "execution_count": 2,
   "metadata": {},
   "outputs": [
    {
     "name": "stdout",
     "output_type": "stream",
     "text": [
      "[1, 8, 27, 64, 125]\n"
     ]
    }
   ],
   "source": [
    "lst = [1,2,3,4,5]\n",
    "sum1 = list(map(lambda a:a**3,lst))\n",
    "\n",
    "print(sum1)\n"
   ]
  },
  {
   "cell_type": "code",
   "execution_count": 3,
   "metadata": {},
   "outputs": [
    {
     "name": "stdout",
     "output_type": "stream",
     "text": [
      "celcious to farenite [('berlin', 1555.2), ('moscow', 1843.2), ('beijing', 1267.2), ('canada', 1152.0), ('hongkong', 1036.8)]\n"
     ]
    }
   ],
   "source": [
    "temp = [('berlin',27),('moscow',32),('beijing',22),('canada',20),('hongkong',18)]\n",
    "\n",
    "temp = list(map(lambda data:(data[0],9/5*data[1]*32),temp))\n",
    "print('celcious to farenite',temp)\n"
   ]
  },
  {
   "cell_type": "code",
   "execution_count": 4,
   "metadata": {},
   "outputs": [
    {
     "name": "stdout",
     "output_type": "stream",
     "text": [
      "[1.2, 3.4, 3.3, 2.5, 1.0]\n",
      "[5.5, 6.6, 7.7]\n"
     ]
    }
   ],
   "source": [
    "#filter also take two argument filter(function,iterables)\n",
    "#to find mean\n",
    "import statistics \n",
    "lst = [1.2,3.4,3.3,2.5,1.0,5.5,6.6,7.7]\n",
    "\n",
    "mean = statistics.mean(lst)\n",
    "\n",
    "ans = list(filter(lambda a:a<mean,lst))\n",
    "ans1 = list(filter(lambda a:a>mean,lst))\n",
    "print(ans)\n",
    "print(ans1)"
   ]
  },
  {
   "cell_type": "code",
   "execution_count": 5,
   "metadata": {},
   "outputs": [
    {
     "name": "stdout",
     "output_type": "stream",
     "text": [
      "['chennai', 'miami', 'florida', 'berlin', 'trichy', 'pudukkottai', 'darabi']\n"
     ]
    }
   ],
   "source": [
    "#to eliminate the empty string\n",
    "city = ['','chennai','','miami','florida','','','','berlin','trichy','pudukkottai','darabi','','']\n",
    "ans = list(filter(None,city))\n",
    "print(ans)\n",
    "\n",
    "#in python \"\",{},[],(),0,0.0,None,'',False are treated as false\n",
    "#None in filter is considered as false so all false wich is empty string \"\" are removed"
   ]
  },
  {
   "cell_type": "code",
   "execution_count": 6,
   "metadata": {},
   "outputs": [
    {
     "name": "stdout",
     "output_type": "stream",
     "text": [
      "6469693230\n"
     ]
    }
   ],
   "source": [
    "#reduce even it takes two arguments reduce(function,iterables) it belongs to functools module\n",
    "#it gives a single output\n",
    "import functools as f\n",
    "lst = [1,2,3,5,7,11,13,17,19,23,29]\n",
    "print(f.reduce(lambda a,b:a*b,lst))"
   ]
  },
  {
   "cell_type": "code",
   "execution_count": 7,
   "metadata": {},
   "outputs": [
    {
     "name": "stdout",
     "output_type": "stream",
     "text": [
      "6469693230\n"
     ]
    }
   ],
   "source": [
    "#without using reduce\n",
    "product = 1\n",
    "for i in lst:\n",
    "    product = product * i\n",
    "    \n",
    "print(product)"
   ]
  },
  {
   "cell_type": "code",
   "execution_count": null,
   "metadata": {},
   "outputs": [],
   "source": []
  },
  {
   "cell_type": "code",
   "execution_count": null,
   "metadata": {},
   "outputs": [],
   "source": []
  },
  {
   "cell_type": "code",
   "execution_count": null,
   "metadata": {},
   "outputs": [],
   "source": []
  },
  {
   "cell_type": "code",
   "execution_count": null,
   "metadata": {},
   "outputs": [],
   "source": []
  }
 ],
 "metadata": {
  "kernelspec": {
   "display_name": "Python 3",
   "language": "python",
   "name": "python3"
  },
  "language_info": {
   "codemirror_mode": {
    "name": "ipython",
    "version": 3
   },
   "file_extension": ".py",
   "mimetype": "text/x-python",
   "name": "python",
   "nbconvert_exporter": "python",
   "pygments_lexer": "ipython3",
   "version": "3.7.6"
  }
 },
 "nbformat": 4,
 "nbformat_minor": 4
}
