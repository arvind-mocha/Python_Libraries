{
 "cells": [
  {
   "cell_type": "markdown",
   "metadata": {},
   "source": [
    "# THREADING PACKAGE"
   ]
  },
  {
   "cell_type": "code",
   "execution_count": 1,
   "metadata": {},
   "outputs": [],
   "source": [
    "#threading and multiprocessing are different\n",
    "#the original use of thread is to split the large memory of \n",
    "#task to different threads and speed up the process\n",
    "import threading as th\n",
    "import time\n",
    "#note dont waste your time in threading module\n",
    "#it is waste use ThreadPoolExecuter of concurrent.futures"
   ]
  },
  {
   "cell_type": "code",
   "execution_count": 3,
   "metadata": {},
   "outputs": [
    {
     "name": "stdout",
     "output_type": "stream",
     "text": [
      "sleeping 1 second....\n",
      "done sleeping....\n",
      "sleeping 1 second....\n",
      "done sleeping....\n",
      "finished in 2.0seconds\n"
     ]
    }
   ],
   "source": [
    "#without using  multithreads only using default thread\n",
    "start = time.perf_counter()\n",
    "\n",
    "def do_something():\n",
    "    print('sleeping 1 second....')\n",
    "    time.sleep(1)\n",
    "    print('done sleeping....')\n",
    "\n",
    "do_something()\n",
    "do_something()\n",
    "\n",
    "stop = time.perf_counter()\n",
    "print(f'finished in {round(stop - start,2)}seconds')"
   ]
  },
  {
   "cell_type": "code",
   "execution_count": 4,
   "metadata": {},
   "outputs": [
    {
     "name": "stdout",
     "output_type": "stream",
     "text": [
      "sleeping 1 second....\n",
      "sleeping 1 second....\n",
      "finished in 0.0seconds\n",
      "done sleeping....\n",
      "done sleeping....\n"
     ]
    }
   ],
   "source": [
    "start = time.perf_counter()\n",
    "\n",
    "def do_something1():\n",
    "    print('sleeping 1 second....')\n",
    "    time.sleep(1)\n",
    "    print('done sleeping....')\n",
    "\n",
    "t1 = th.Thread(target = do_something1)\n",
    "t2 = th.Thread(target = do_something1)\n",
    "\n",
    "t1.start()\n",
    "t2.start()\n",
    "    \n",
    "stop = time.perf_counter()\n",
    "print(f'finished in {round(stop - start,2)}seconds')"
   ]
  },
  {
   "cell_type": "code",
   "execution_count": 20,
   "metadata": {},
   "outputs": [
    {
     "name": "stdout",
     "output_type": "stream",
     "text": [
      "sleeping 1 second....\n",
      "sleeping 1 second....\n",
      "done sleeping....\n",
      "done sleeping....\n",
      "finished in 1.01seconds\n"
     ]
    }
   ],
   "source": [
    "start = time.perf_counter()\n",
    "\n",
    "def do_something1():\n",
    "    print('sleeping 1 second....')\n",
    "    time.sleep(1)\n",
    "    print('done sleeping....')\n",
    "\n",
    "t1 = th.Thread(target = do_something1)\n",
    "t2 = th.Thread(target = do_something1)\n",
    "\n",
    "t1.start()\n",
    "t2.start()\n",
    "\n",
    "t1.join()\n",
    "t2.join()\n",
    "    \n",
    "stop = time.perf_counter()\n",
    "print(f'finished in {round(stop - start,2)}seconds')"
   ]
  },
  {
   "cell_type": "code",
   "execution_count": 14,
   "metadata": {},
   "outputs": [],
   "source": [
    "#consider the above three examples\n",
    "\n",
    "#for the first one we didnt use threads so after completion \n",
    "#of one task the next task gets executed with a delay of 1 sec\n",
    "#no cpu action involved here\n",
    "\n",
    "#in the second one we used threads so the first task gets executed\n",
    "#and when it is put to sleep the another thread we created \n",
    "#takes care of the second task and process is done quickly\n",
    "#here the action of cpu invloved by allocating another thread\n",
    "#when first task is in sleep\n",
    "\n",
    "#in the third one we used threads and join\n",
    "#join stops the main thread and finishes before main thread\n",
    "\n",
    "#overall time taken\n",
    "#without thread = 2 secs\n",
    "#with thread = 0 sec\n",
    "#with thread and join = 1 sec\n"
   ]
  },
  {
   "cell_type": "code",
   "execution_count": 18,
   "metadata": {},
   "outputs": [
    {
     "name": "stdout",
     "output_type": "stream",
     "text": [
      "sleeping 1 second....\n",
      "sleeping 1 second....\n",
      "sleeping 1 second....\n",
      "sleeping 1 second....\n",
      "sleeping 1 second....\n",
      "sleeping 1 second....\n",
      "sleeping 1 second....\n",
      "sleeping 1 second....\n",
      "sleeping 1 second....\n",
      "sleeping 1 second....\n",
      "finished in 0.02seconds\n",
      "done sleeping....\n",
      "done sleeping....\n",
      "done sleeping....\n",
      "done sleeping....\n",
      "done sleeping....\n",
      "done sleeping....\n",
      "done sleeping....\n",
      "done sleeping....\n",
      "done sleeping....\n",
      "done sleeping....\n"
     ]
    }
   ],
   "source": [
    "#we create 10 threads and no join\n",
    "start = time.perf_counter()\n",
    "\n",
    "def do_something1():\n",
    "    print('sleeping 1 second....')\n",
    "    time.sleep(1)\n",
    "    print('done sleeping....')\n",
    "\n",
    "for _ in range(10):\n",
    "    t = th.Thread(target = do_something1)\n",
    "    t.start()\n",
    "   \n",
    "stop = time.perf_counter()\n",
    "print(f'finished in {round(stop - start,2)}seconds')\n",
    "\n",
    "#the main thread ran in between\n",
    "#after first thread the next thread to run is main thread\n",
    "#since we targeted the method after the completion of that \n",
    "#method main thread got executed"
   ]
  },
  {
   "cell_type": "code",
   "execution_count": 17,
   "metadata": {},
   "outputs": [
    {
     "name": "stdout",
     "output_type": "stream",
     "text": [
      "sleeping 1 second....\n",
      "done sleeping....\n",
      "sleeping 1 second....\n",
      "done sleeping....\n",
      "sleeping 1 second....\n",
      "done sleeping....\n",
      "sleeping 1 second....\n",
      "done sleeping....\n",
      "sleeping 1 second....\n",
      "done sleeping....\n",
      "sleeping 1 second....\n",
      "done sleeping....\n",
      "sleeping 1 second....\n",
      "done sleeping....\n",
      "sleeping 1 second....\n",
      "done sleeping....\n",
      "sleeping 1 second....\n",
      "done sleeping....\n",
      "sleeping 1 second....\n",
      "done sleeping....\n",
      "finished in 10.03seconds\n"
     ]
    }
   ],
   "source": [
    "#we create 10 threads \n",
    "start = time.perf_counter()\n",
    "\n",
    "def do_something1():\n",
    "    print('sleeping 1 second....')\n",
    "    time.sleep(1)\n",
    "    print('done sleeping....')\n",
    "\n",
    "for _ in range(10):\n",
    "    t = th.Thread(target = do_something1)\n",
    "    t.start()\n",
    "    t.join()\n",
    "\n",
    "stop = time.perf_counter()\n",
    "print(f'finished in {round(stop - start,2)}seconds')"
   ]
  },
  {
   "cell_type": "code",
   "execution_count": 21,
   "metadata": {},
   "outputs": [],
   "source": [
    "#as per rule the second thread to run is main thread\n",
    "#but we targted a method and also declared a join method\n",
    "#so the main method is the last to get executed\n",
    "\n",
    "#so the upcoming thread must be exectued\n",
    "#but since we create join for each soon after start() = starting thread\n",
    "#thread when a thread goes to sleep the other thread is\n",
    "#not executed the same thread wakes up and finishes its task\n",
    "\n",
    "#this is because the second thread main is put to wait \n",
    "#for all threads so at the wait time of main thread\n",
    "#the sleeping thread wakes up and finishes its excution\n",
    "\n",
    "#so their is no difference between running sincronisable thread\n",
    "#and declaring join() after each thread\n",
    "\n",
    "#sincronise means after completion of a thread the \n",
    "#next thread starts its execution\n",
    "\n",
    "#so to prevent it declare join() after starting all thread\n",
    "#or after all start() method"
   ]
  },
  {
   "cell_type": "code",
   "execution_count": 28,
   "metadata": {},
   "outputs": [
    {
     "name": "stdout",
     "output_type": "stream",
     "text": [
      "sleeping 1 second....\n",
      "sleeping 1 second....\n",
      "sleeping 1 second....\n",
      "sleeping 1 second....\n",
      "sleeping 1 second....\n",
      "sleeping 1 second....\n",
      "sleeping 1 second....\n",
      "sleeping 1 second....\n",
      "sleeping 1 second....\n",
      "sleeping 1 second....\n",
      "done sleeping....\n",
      "done sleeping....\n",
      "done sleeping....\n",
      "done sleeping....\n",
      "done sleeping....\n",
      "done sleeping....\n",
      "done sleeping....\n",
      "done sleeping....\n",
      "done sleeping....\n",
      "done sleeping....\n",
      "finished in 1.02 seconds\n"
     ]
    }
   ],
   "source": [
    "#prevention of sincronization\n",
    "start = time.perf_counter()\n",
    "\n",
    "lst = []\n",
    "\n",
    "def do_something1():\n",
    "    print('sleeping 1 second....')\n",
    "    time.sleep(1)\n",
    "    print('done sleeping....')\n",
    "\n",
    "for _ in range(10):\n",
    "    t = th.Thread(target = do_something1)\n",
    "    t.start()\n",
    "    lst.append(t)\n",
    "\n",
    "for i in lst:    \n",
    "    i.join()\n",
    "\n",
    "stop = time.perf_counter()\n",
    "print(f'finished in {round(stop - start,2)} seconds')"
   ]
  },
  {
   "cell_type": "code",
   "execution_count": 29,
   "metadata": {},
   "outputs": [],
   "source": [
    "#consider the above three example\n",
    "\n",
    "#ten thread without join = 0.2 secs\n",
    "#ten threads with join after each thread = 10 secs\n",
    "#ten thread with join after starting all thread = 1.02 secs"
   ]
  },
  {
   "cell_type": "code",
   "execution_count": 31,
   "metadata": {},
   "outputs": [
    {
     "name": "stdout",
     "output_type": "stream",
     "text": [
      "sleeping for 1.5 second....\n",
      "sleeping for 1.5 second....\n",
      "sleeping for 1.5 second....\n",
      "sleeping for 1.5 second....\n",
      "sleeping for 1.5 second....\n",
      "sleeping for 1.5 second....sleeping for 1.5 second....\n",
      "\n",
      "sleeping for 1.5 second....\n",
      "sleeping for 1.5 second....\n",
      "sleeping for 1.5 second....\n",
      "done sleeping....\n",
      "done sleeping....\n",
      "done sleeping....\n",
      "done sleeping....\n",
      "done sleeping....\n",
      "done sleeping....done sleeping....\n",
      "\n",
      "done sleeping....\n",
      "done sleeping....\n",
      "done sleeping....\n",
      "finished in 1.52 seconds\n"
     ]
    }
   ],
   "source": [
    "#passing arguments \n",
    "start = time.perf_counter()\n",
    "\n",
    "lst = []\n",
    "\n",
    "def do_something1(seconds):\n",
    "    print(f'sleeping for {seconds} second....')\n",
    "    time.sleep(seconds)\n",
    "    print('done sleeping....')\n",
    "\n",
    "for _ in range(10):\n",
    "    t = th.Thread(target = do_something1,args=[1.5])\n",
    "    t.start()\n",
    "    lst.append(t)\n",
    "\n",
    "for i in lst:    \n",
    "    i.join()\n",
    "\n",
    "stop = time.perf_counter()\n",
    "print(f'finished in {round(stop - start,2)} seconds')\n",
    "\n",
    "#it might take 15 seconds if you run this in syncronized way"
   ]
  },
  {
   "cell_type": "markdown",
   "metadata": {},
   "source": [
    "# CONCURRENT FUTURES"
   ]
  },
  {
   "cell_type": "code",
   "execution_count": null,
   "metadata": {},
   "outputs": [],
   "source": [
    "#module conncurrent futures as a method threadpool executor\n",
    "#which is more usefull and easy "
   ]
  },
  {
   "cell_type": "code",
   "execution_count": 3,
   "metadata": {},
   "outputs": [],
   "source": [
    "import concurrent.futures as cf"
   ]
  },
  {
   "cell_type": "code",
   "execution_count": 10,
   "metadata": {},
   "outputs": [
    {
     "name": "stdout",
     "output_type": "stream",
     "text": [
      "sleeping for 1 second....\n",
      "sleeping for 1 second....\n",
      "done sleeping....\n",
      "done sleeping....\n",
      "finished in 1.01 seconds\n"
     ]
    }
   ],
   "source": [
    "start = time.perf_counter()\n",
    "\n",
    "def do_something1(seconds):\n",
    "    print(f'sleeping for {seconds} second....')\n",
    "    time.sleep(seconds)\n",
    "    return 'done sleeping....'\n",
    "\n",
    "with cf.ThreadPoolExecutor() as ex:\n",
    "    f1 = ex.submit(do_something1,1)#1 is the sleep time\n",
    "    f2 = ex.submit(do_something1,1)\n",
    "\n",
    "    print(f1.result())\n",
    "    print(f2.result())\n",
    "    \n",
    "stop = time.perf_counter()\n",
    "    \n",
    "print(f'finished in {round(stop - start,2)} seconds')"
   ]
  },
  {
   "cell_type": "code",
   "execution_count": 14,
   "metadata": {},
   "outputs": [
    {
     "name": "stdout",
     "output_type": "stream",
     "text": [
      "sleeping for 1 second....\n",
      "sleeping for 1 second....\n",
      "sleeping for 1 second....\n",
      "sleeping for 1 second....\n",
      "sleeping for 1 second....\n",
      "sleeping for 1 second....\n",
      "sleeping for 1 second....\n",
      "sleeping for 1 second....\n",
      "sleeping for 1 second....\n",
      "sleeping for 1 second....\n",
      "done sleeping....\n",
      "done sleeping....\n",
      "done sleeping....\n",
      "done sleeping....\n",
      "done sleeping....\n",
      "done sleeping....\n",
      "done sleeping....\n",
      "done sleeping....\n",
      "done sleeping....\n",
      "done sleeping....\n",
      "finishes in 1 seconds\n"
     ]
    }
   ],
   "source": [
    "#ten threads\n",
    "start = time.perf_counter()\n",
    "\n",
    "def do_something1(seconds):\n",
    "    print(f'sleeping for {seconds} second....')\n",
    "    time.sleep(seconds)\n",
    "    return 'done sleeping....'\n",
    "\n",
    "\n",
    "with cf.ThreadPoolExecutor() as ex:\n",
    "    result = [ ex.submit(do_something1,1) for _ in range(10)]#list comprehension\n",
    "    \n",
    "    for f in cf.as_completed(result):\n",
    "        print(f.result())\n",
    "\n",
    "stop = time.perf_counter()\n",
    "\n",
    "print(f'finishes in {round(stop - start)} seconds')"
   ]
  },
  {
   "cell_type": "code",
   "execution_count": 44,
   "metadata": {},
   "outputs": [
    {
     "name": "stdout",
     "output_type": "stream",
     "text": [
      "Sleeping 5 second(s)...\n",
      "Sleeping 4 second(s)...\n",
      "Sleeping 3 second(s)...\n",
      "Sleeping 2 second(s)...\n",
      "Sleeping 1 second(s)...\n",
      "Done Sleeping...1\n",
      "Done Sleeping...2\n",
      "Done Sleeping...3\n",
      "Done Sleeping...4\n",
      "Done Sleeping...5\n",
      "Finished in 5.0 second(s)\n"
     ]
    }
   ],
   "source": [
    "start = time.perf_counter()\n",
    "\n",
    "\n",
    "def do_something2(seconds):\n",
    "    print(f'Sleeping {seconds} second(s)...')\n",
    "    time.sleep(seconds)\n",
    "    return f'Done Sleeping...{seconds}'\n",
    "\n",
    "\n",
    "with cf.ThreadPoolExecutor() as executor:\n",
    "    secs = [5,4,3,2,1]\n",
    "    results =[executor.submit(do_something2,i) for i in secs]\n",
    "    \n",
    "    for f in cf.as_completed(results):#as_completed method catches completed threads  \n",
    "        print(f.result())\n",
    "    \n",
    "finish = time.perf_counter()\n",
    "\n",
    "print(f'Finished in {round(finish-start, 2)} second(s)')"
   ]
  },
  {
   "cell_type": "code",
   "execution_count": 42,
   "metadata": {},
   "outputs": [
    {
     "name": "stdout",
     "output_type": "stream",
     "text": [
      "Sleeping 5 second(s)...\n",
      "Sleeping 4 second(s)...\n",
      "Sleeping 3 second(s)...\n",
      "Sleeping 2 second(s)...\n",
      "Sleeping 1 second(s)...\n",
      "Done Sleeping...5\n",
      "Done Sleeping...4\n",
      "Done Sleeping...3\n",
      "Done Sleeping...2\n",
      "Done Sleeping...1\n",
      "Finished in 5.0 second(s)\n"
     ]
    }
   ],
   "source": [
    "#same problem raplacing submit to map function\n",
    "#both gives same output\n",
    "#but to understand as_completed method\n",
    "#the for loop is modified observe for loop of both \n",
    "\n",
    "start = time.perf_counter()\n",
    "\n",
    "def do_something(seconds):\n",
    "    print(f'Sleeping {seconds} second(s)...')\n",
    "    time.sleep(seconds)\n",
    "    return f'Done Sleeping...{seconds}'\n",
    "\n",
    "with cf.ThreadPoolExecutor() as executor:\n",
    "    secs = [5, 4, 3, 2, 1]\n",
    "    results = executor.map(do_something, secs)\n",
    "\n",
    "for result in results:\n",
    "    print(result)\n",
    "    \n",
    "finish = time.perf_counter()\n",
    "\n",
    "print(f'Finished in {round(finish-start, 2)} second(s)')\n"
   ]
  },
  {
   "cell_type": "code",
   "execution_count": 45,
   "metadata": {},
   "outputs": [],
   "source": [
    "#as completed method explained\n",
    "\n",
    "#observe output of both problems\n",
    "\n",
    "#first problem\n",
    "#we used as_completed method\n",
    "#so the done sleeping is in order\n",
    "#because as_completed method catches only completed thread\n",
    "#so as per the problem thread 1 sleep for 5 secs at that time thread 2\n",
    "#gets executed then thread 2 sleeps thread 3 gets executed \n",
    "#same for every thread and the first thread to wake up is the last thread \n",
    "#because it sleeps for 1 sec and the last\n",
    "#thread to wake up is first thread because \n",
    "#the 5 sec sleeping of first thread is not completed\n",
    "#at that sleep time other thread does their \n",
    "#execution which takes less 1sec\n",
    "\n",
    "#second problem \n",
    "#since we dont use as_completed method \n",
    "#the uncompleted first with 5 sec of sleep printed first\n",
    "#because we dont catch the completed thread"
   ]
  },
  {
   "cell_type": "code",
   "execution_count": 1,
   "metadata": {},
   "outputs": [],
   "source": [
    "#real world examples\n",
    "import requests\n",
    "import time\n",
    "import concurrent.futures\n",
    "\n",
    "img_urls = [\n",
    "    'https://images.unsplash.com/photo-1516117172878-fd2c41f4a759',\n",
    "    'https://images.unsplash.com/photo-1532009324734-20a7a5813719',\n",
    "    'https://images.unsplash.com/photo-1524429656589-6633a470097c',\n",
    "    'https://images.unsplash.com/photo-1530224264768-7ff8c1789d79',\n",
    "    'https://images.unsplash.com/photo-1564135624576-c5c88640f235',\n",
    "    'https://images.unsplash.com/photo-1541698444083-023c97d3f4b6',\n",
    "    'https://images.unsplash.com/photo-1522364723953-452d3431c267',\n",
    "    'https://images.unsplash.com/photo-1513938709626-033611b8cc03',\n",
    "    'https://images.unsplash.com/photo-1507143550189-fed454f93097',\n",
    "    'https://images.unsplash.com/photo-1493976040374-85c8e12f0c0e',\n",
    "    'https://images.unsplash.com/photo-1504198453319-5ce911bafcde',\n",
    "    'https://images.unsplash.com/photo-1530122037265-a5f1f91d3b99',\n",
    "    'https://images.unsplash.com/photo-1516972810927-80185027ca84',\n",
    "    'https://images.unsplash.com/photo-1550439062-609e1531270e',\n",
    "    'https://images.unsplash.com/photo-1549692520-acc6669e2f0c'\n",
    "]"
   ]
  },
  {
   "cell_type": "code",
   "execution_count": 6,
   "metadata": {},
   "outputs": [
    {
     "name": "stdout",
     "output_type": "stream",
     "text": [
      ".jpg was downloaded...\n",
      ".jpg was downloaded...\n",
      ".jpg was downloaded...\n",
      ".jpg was downloaded...\n",
      ".jpg was downloaded...\n",
      ".jpg was downloaded...\n",
      ".jpg was downloaded...\n",
      ".jpg was downloaded...\n",
      ".jpg was downloaded...\n",
      ".jpg was downloaded...\n",
      ".jpg was downloaded...\n",
      ".jpg was downloaded...\n",
      ".jpg was downloaded...\n",
      ".jpg was downloaded...\n",
      ".jpg was downloaded...\n",
      "Finished in 33.223817999999994 seconds\n"
     ]
    }
   ],
   "source": [
    "t1 = time.perf_counter()\n",
    "\n",
    "for img_url in img_urls:\n",
    "    img_bytes = requests.get(img_url).content\n",
    "    img_name = img_url.split('/')[3]\n",
    "    img_name = f'{img_name}.jpg'\n",
    "    with open(img_name, 'wb') as img_file:\n",
    "        img_file.write(img_bytes)\n",
    "        print(f'{img_name} was downloaded...')\n",
    "\n",
    "t2 = time.perf_counter()\n",
    "\n",
    "print(f'Finished in {t2-t1} seconds')"
   ]
  },
  {
   "cell_type": "code",
   "execution_count": 3,
   "metadata": {},
   "outputs": [
    {
     "name": "stdout",
     "output_type": "stream",
     "text": [
      "photo-1516117172878-fd2c41f4a759.jpg was downloaded...\n",
      "photo-1564135624576-c5c88640f235.jpg was downloaded...\n",
      "photo-1522364723953-452d3431c267.jpg was downloaded...\n",
      "photo-1507143550189-fed454f93097.jpg was downloaded...\n",
      "photo-1549692520-acc6669e2f0c.jpg was downloaded...\n",
      "photo-1541698444083-023c97d3f4b6.jpg was downloaded...\n",
      "photo-1524429656589-6633a470097c.jpg was downloaded...\n",
      "photo-1504198453319-5ce911bafcde.jpg was downloaded...\n",
      "photo-1516972810927-80185027ca84.jpg was downloaded...\n",
      "photo-1532009324734-20a7a5813719.jpg was downloaded...\n",
      "photo-1530224264768-7ff8c1789d79.jpg was downloaded...\n",
      "photo-1513938709626-033611b8cc03.jpg was downloaded...\n",
      "photo-1550439062-609e1531270e.jpg was downloaded...\n",
      "photo-1493976040374-85c8e12f0c0e.jpg was downloaded...\n",
      "photo-1530122037265-a5f1f91d3b99.jpg was downloaded...\n",
      "Finished in 13.9121131 seconds\n"
     ]
    }
   ],
   "source": [
    "#using threads with help of threadpoolexecutor\n",
    "t1 = time.perf_counter()\n",
    "\n",
    "\n",
    "def download_image(img_url):\n",
    "    img_bytes = requests.get(img_url).content\n",
    "    img_name = img_url.split('/')[3]\n",
    "    img_name = f'{img_name}.jpg'\n",
    "    with open(img_name, 'wb') as img_file:\n",
    "        img_file.write(img_bytes)\n",
    "        print(f'{img_name} was downloaded...')\n",
    "\n",
    "\n",
    "with concurrent.futures.ThreadPoolExecutor() as executor:\n",
    "    executor.map(download_image, img_urls)\n",
    "\n",
    "\n",
    "t2 = time.perf_counter()\n",
    "\n",
    "print(f'Finished in {t2-t1} seconds')"
   ]
  },
  {
   "cell_type": "code",
   "execution_count": 4,
   "metadata": {},
   "outputs": [],
   "source": [
    "#so the difference between the above two problem is \n",
    "\n",
    "#first problem time taken two finish is 16 secs\n",
    "#second problem time taken two finish is 8 secs\n",
    "\n",
    "#note very very important\n",
    "\n",
    "#threading can be used in situations like fetching or printing and more\n",
    "\n",
    "#but threding mustnot be used in a manupulation situation\n",
    "#it can slow down the process\n",
    "\n",
    "#manupulation in the sence \n",
    "#consider the abov problem here we are only fetching the image\n",
    "#but what if you want to manupulate their size and modify them"
   ]
  },
  {
   "cell_type": "code",
   "execution_count": 1,
   "metadata": {},
   "outputs": [],
   "source": [
    "import multiprocessing"
   ]
  },
  {
   "cell_type": "code",
   "execution_count": null,
   "metadata": {},
   "outputs": [],
   "source": []
  }
 ],
 "metadata": {
  "kernelspec": {
   "display_name": "Python 3",
   "language": "python",
   "name": "python3"
  },
  "language_info": {
   "codemirror_mode": {
    "name": "ipython",
    "version": 3
   },
   "file_extension": ".py",
   "mimetype": "text/x-python",
   "name": "python",
   "nbconvert_exporter": "python",
   "pygments_lexer": "ipython3",
   "version": "3.8.5"
  }
 },
 "nbformat": 4,
 "nbformat_minor": 4
}
