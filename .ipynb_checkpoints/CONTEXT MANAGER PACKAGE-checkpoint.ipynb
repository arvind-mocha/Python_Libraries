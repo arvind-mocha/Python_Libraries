{
 "cells": [
  {
   "cell_type": "code",
   "execution_count": 1,
   "metadata": {},
   "outputs": [],
   "source": [
    "from contextlib import contextmanager "
   ]
  },
  {
   "cell_type": "code",
   "execution_count": 15,
   "metadata": {},
   "outputs": [
    {
     "name": "stdout",
     "output_type": "stream",
     "text": [
      "True\n"
     ]
    }
   ],
   "source": [
    "@contextmanager\n",
    "def open_file(file,mode):\n",
    "      try:\n",
    "        f = open(file,mode)\n",
    "        yield f\n",
    "      finally:\n",
    "        f.close()\n",
    "    \n",
    "with open_file('filemanagement','a') as f:\n",
    "    f.write('\\ndo you love me')\n",
    "    \n",
    "print(f.closed)"
   ]
  },
  {
   "cell_type": "code",
   "execution_count": 17,
   "metadata": {},
   "outputs": [
    {
     "name": "stdout",
     "output_type": "stream",
     "text": [
      "C:\\Users\\safia\n",
      "['a.docx', 'b.rtf']\n",
      "C:\\Users\\safia\n",
      "['bye.txt', 'hi.txt']\n"
     ]
    }
   ],
   "source": [
    "#hadeling directories without context manager\n",
    "import os\n",
    "\n",
    "cwd = os.getcwd()\n",
    "os.chdir('C:/Users/safia/OneDrive/Desktop/1')\n",
    "print(os.listdir())\n",
    "os.chdir(cwd)\n",
    "\n",
    "cwd = os.getcwd()\n",
    "os.chdir('C:/Users/safia/OneDrive/Desktop/2')\n",
    "print(os.listdir())\n",
    "os.chdir(cwd)\n",
    "\n",
    "#so here we are changing the directory and listing\n",
    "#the file in that directory\n",
    "#and again changing the directory to previous directory"
   ]
  },
  {
   "cell_type": "code",
   "execution_count": 25,
   "metadata": {},
   "outputs": [
    {
     "name": "stdout",
     "output_type": "stream",
     "text": [
      "['a.docx', 'b.rtf']\n",
      "['bye.txt', 'hi.txt']\n"
     ]
    }
   ],
   "source": [
    "#the same using context manager\n",
    "@contextmanager\n",
    "def ch_dir(dir):\n",
    "    try:\n",
    "        cwd = os.getcwd()\n",
    "        os.chdir(dir)\n",
    "        yield\n",
    "    finally:\n",
    "        os.chdir(cwd)\n",
    "        \n",
    "with ch_dir('C:/Users/safia/OneDrive/Desktop/1') as dir:\n",
    "         print(os.listdir())\n",
    "                 \n",
    "with ch_dir('C:/Users/safia/OneDrive/Desktop/2') as dir:\n",
    "         print(os.listdir())\n",
    "        \n",
    "        #it is clean and clear"
   ]
  },
  {
   "cell_type": "code",
   "execution_count": null,
   "metadata": {},
   "outputs": [],
   "source": []
  }
 ],
 "metadata": {
  "kernelspec": {
   "display_name": "Python 3",
   "language": "python",
   "name": "python3"
  },
  "language_info": {
   "codemirror_mode": {
    "name": "ipython",
    "version": 3
   },
   "file_extension": ".py",
   "mimetype": "text/x-python",
   "name": "python",
   "nbconvert_exporter": "python",
   "pygments_lexer": "ipython3",
   "version": "3.7.6"
  }
 },
 "nbformat": 4,
 "nbformat_minor": 4
}
