{
 "cells": [
  {
   "cell_type": "markdown",
   "metadata": {},
   "source": [
    "# RE PACKAGE"
   ]
  },
  {
   "cell_type": "code",
   "execution_count": 4,
   "metadata": {},
   "outputs": [],
   "source": [
    "#re stands for regular expression which is use to find or search anythig \n",
    "#forall keywords go to https://www.w3schools.com/python/python_regex.asp\n",
    "import re"
   ]
  },
  {
   "cell_type": "code",
   "execution_count": 9,
   "metadata": {},
   "outputs": [],
   "source": [
    "#we going to search from the below documentry\n",
    "\n",
    "text_to_search='''\n",
    "abcdefghijklmnopqrstuvwxyz\n",
    "ABCDEFGHIJKLMNOPQRSTUVWXYZ\n",
    "1234567890\n",
    "\n",
    "Ha HaHa\n",
    "\n",
    "metacharecters(need to be escaped):\n",
    ". ^ $ * + { } [ ] \\ | ( )\n",
    "\n",
    "arvind.com\n",
    "\n",
    "321-555-4321\n",
    "123.456.7890\n",
    "123*456*7890\n",
    "800-555-1000\n",
    "900.600.1000\n",
    "\n",
    "Mr.Ashok\n",
    "Mr Chandru\n",
    "Ms Davis\n",
    "Mrs.Robinson\n",
    "Mr. T\n",
    "\n",
    "cat\n",
    "mat\n",
    "bat\n",
    "sat\n",
    "\n",
    "            '''\n",
    "sentence = 'start the work and end'"
   ]
  },
  {
   "cell_type": "code",
   "execution_count": 10,
   "metadata": {},
   "outputs": [],
   "source": [
    "#to find the something first it is better to use re.compile()\n",
    "#it is not nessessary but using compile() converts regular expression \n",
    "#into an object so we need not to re write it\n",
    "#see below we use complie and TP becomes an object\n",
    "#so when TP is found in any string it is found so we dont need for \n",
    "#re writing"
   ]
  },
  {
   "cell_type": "code",
   "execution_count": 11,
   "metadata": {},
   "outputs": [
    {
     "name": "stdout",
     "output_type": "stream",
     "text": [
      "['TP', 'TP']\n",
      "['TP']\n"
     ]
    }
   ],
   "source": [
    "pattern=re.compile('TP')\n",
    "result=pattern.findall('TP Tutorialspoint TP')\n",
    "print (result)\n",
    "result2=pattern.findall('TP is most popular tutorials site of India')\n",
    "print(result2)"
   ]
  },
  {
   "cell_type": "code",
   "execution_count": 12,
   "metadata": {},
   "outputs": [
    {
     "ename": "AttributeError",
     "evalue": "'str' object has no attribute 'findall'",
     "output_type": "error",
     "traceback": [
      "\u001b[1;31m---------------------------------------------------------------------------\u001b[0m",
      "\u001b[1;31mAttributeError\u001b[0m                            Traceback (most recent call last)",
      "\u001b[1;32m<ipython-input-12-540642b7f3d3>\u001b[0m in \u001b[0;36m<module>\u001b[1;34m\u001b[0m\n\u001b[0;32m      4\u001b[0m \u001b[1;31m#else you can give a word and find a letter from it,this may be usefull\u001b[0m\u001b[1;33m\u001b[0m\u001b[1;33m\u001b[0m\u001b[1;33m\u001b[0m\u001b[0m\n\u001b[0;32m      5\u001b[0m \u001b[0ma\u001b[0m \u001b[1;33m=\u001b[0m \u001b[1;34m'hello'\u001b[0m\u001b[1;33m\u001b[0m\u001b[1;33m\u001b[0m\u001b[0m\n\u001b[1;32m----> 6\u001b[1;33m \u001b[0mresult\u001b[0m \u001b[1;33m=\u001b[0m \u001b[0ma\u001b[0m\u001b[1;33m.\u001b[0m\u001b[0mfindall\u001b[0m\u001b[1;33m(\u001b[0m\u001b[1;34m'hello world'\u001b[0m\u001b[1;33m)\u001b[0m\u001b[1;33m\u001b[0m\u001b[1;33m\u001b[0m\u001b[0m\n\u001b[0m\u001b[0;32m      7\u001b[0m \u001b[0mprint\u001b[0m\u001b[1;33m(\u001b[0m\u001b[0mresult\u001b[0m\u001b[1;33m)\u001b[0m\u001b[1;33m\u001b[0m\u001b[1;33m\u001b[0m\u001b[0m\n",
      "\u001b[1;31mAttributeError\u001b[0m: 'str' object has no attribute 'findall'"
     ]
    }
   ],
   "source": [
    "#without using compile you cant give a word \n",
    "#you can only give a sentence like below\n",
    "#you can give a word but finding a word from a word is waste of time\n",
    "#else you can give a word and find a letter from it,this may be usefull \n",
    "a = 'hello'\n",
    "result = a.findall('hello world')\n",
    "print(result)"
   ]
  },
  {
   "cell_type": "code",
   "execution_count": 13,
   "metadata": {},
   "outputs": [
    {
     "name": "stdout",
     "output_type": "stream",
     "text": [
      "<re.Match object; span=(0, 5), match='hello'>\n",
      "starting index 19\n"
     ]
    }
   ],
   "source": [
    "#so we cant give a word and find that word from the sentence \n",
    "#but we can give a sentence and find th word from it\n",
    "a = 'hello hello i am a good boy'\n",
    "result = re.search(\"hello\",a)#search gives satrting and ending index\n",
    "print(result)\n",
    "result1 = a.find('good')#find gives only sarting index\n",
    "print('starting index',result1)"
   ]
  },
  {
   "cell_type": "code",
   "execution_count": 14,
   "metadata": {},
   "outputs": [
    {
     "name": "stdout",
     "output_type": "stream",
     "text": [
      "<re.Match object; span=(1, 4), match='abc'>\n"
     ]
    }
   ],
   "source": [
    "#lets start our search from the documentation\n",
    "#note it is always better to use a raw string while using keyword\n",
    "pattern = re.compile(r'abc')\n",
    "matches = pattern.finditer(text_to_search)\n",
    "\n",
    "for i in matches:\n",
    "    print(i)"
   ]
  },
  {
   "cell_type": "code",
   "execution_count": 15,
   "metadata": {},
   "outputs": [
    {
     "name": "stdout",
     "output_type": "stream",
     "text": [
      "abcd\n",
      "ABCD\n"
     ]
    }
   ],
   "source": [
    "print(text_to_search[1:5])\n",
    "print(text_to_search[28:32])\n",
    "#5 and 32 index are excluded"
   ]
  },
  {
   "cell_type": "code",
   "execution_count": 16,
   "metadata": {},
   "outputs": [
    {
     "name": "stdout",
     "output_type": "stream",
     "text": [
      "<re.Match object; span=(1, 2), match='a'>\n",
      "<re.Match object; span=(2, 3), match='b'>\n",
      "<re.Match object; span=(3, 4), match='c'>\n",
      "<re.Match object; span=(4, 5), match='d'>\n",
      "<re.Match object; span=(5, 6), match='e'>\n",
      "<re.Match object; span=(6, 7), match='f'>\n",
      "<re.Match object; span=(7, 8), match='g'>\n",
      "<re.Match object; span=(8, 9), match='h'>\n",
      "<re.Match object; span=(9, 10), match='i'>\n",
      "<re.Match object; span=(10, 11), match='j'>\n",
      "<re.Match object; span=(11, 12), match='k'>\n",
      "<re.Match object; span=(12, 13), match='l'>\n",
      "<re.Match object; span=(13, 14), match='m'>\n",
      "<re.Match object; span=(14, 15), match='n'>\n",
      "<re.Match object; span=(15, 16), match='o'>\n",
      "<re.Match object; span=(16, 17), match='p'>\n",
      "<re.Match object; span=(17, 18), match='q'>\n",
      "<re.Match object; span=(18, 19), match='r'>\n",
      "<re.Match object; span=(19, 20), match='s'>\n",
      "<re.Match object; span=(20, 21), match='t'>\n",
      "<re.Match object; span=(21, 22), match='u'>\n",
      "<re.Match object; span=(22, 23), match='v'>\n",
      "<re.Match object; span=(23, 24), match='w'>\n",
      "<re.Match object; span=(24, 25), match='x'>\n",
      "<re.Match object; span=(25, 26), match='y'>\n",
      "<re.Match object; span=(26, 27), match='z'>\n",
      "<re.Match object; span=(28, 29), match='A'>\n",
      "<re.Match object; span=(29, 30), match='B'>\n",
      "<re.Match object; span=(30, 31), match='C'>\n",
      "<re.Match object; span=(31, 32), match='D'>\n",
      "<re.Match object; span=(32, 33), match='E'>\n",
      "<re.Match object; span=(33, 34), match='F'>\n",
      "<re.Match object; span=(34, 35), match='G'>\n",
      "<re.Match object; span=(35, 36), match='H'>\n",
      "<re.Match object; span=(36, 37), match='I'>\n",
      "<re.Match object; span=(37, 38), match='J'>\n",
      "<re.Match object; span=(38, 39), match='K'>\n",
      "<re.Match object; span=(39, 40), match='L'>\n",
      "<re.Match object; span=(40, 41), match='M'>\n",
      "<re.Match object; span=(41, 42), match='N'>\n",
      "<re.Match object; span=(42, 43), match='O'>\n",
      "<re.Match object; span=(43, 44), match='P'>\n",
      "<re.Match object; span=(44, 45), match='Q'>\n",
      "<re.Match object; span=(45, 46), match='R'>\n",
      "<re.Match object; span=(46, 47), match='S'>\n",
      "<re.Match object; span=(47, 48), match='T'>\n",
      "<re.Match object; span=(48, 49), match='U'>\n",
      "<re.Match object; span=(49, 50), match='V'>\n",
      "<re.Match object; span=(50, 51), match='W'>\n",
      "<re.Match object; span=(51, 52), match='X'>\n",
      "<re.Match object; span=(52, 53), match='Y'>\n",
      "<re.Match object; span=(53, 54), match='Z'>\n",
      "<re.Match object; span=(55, 56), match='1'>\n",
      "<re.Match object; span=(56, 57), match='2'>\n",
      "<re.Match object; span=(57, 58), match='3'>\n",
      "<re.Match object; span=(58, 59), match='4'>\n",
      "<re.Match object; span=(59, 60), match='5'>\n",
      "<re.Match object; span=(60, 61), match='6'>\n",
      "<re.Match object; span=(61, 62), match='7'>\n",
      "<re.Match object; span=(62, 63), match='8'>\n",
      "<re.Match object; span=(63, 64), match='9'>\n",
      "<re.Match object; span=(64, 65), match='0'>\n",
      "<re.Match object; span=(67, 68), match='H'>\n",
      "<re.Match object; span=(68, 69), match='a'>\n",
      "<re.Match object; span=(69, 70), match=' '>\n",
      "<re.Match object; span=(70, 71), match='H'>\n",
      "<re.Match object; span=(71, 72), match='a'>\n",
      "<re.Match object; span=(72, 73), match='H'>\n",
      "<re.Match object; span=(73, 74), match='a'>\n",
      "<re.Match object; span=(76, 77), match='m'>\n",
      "<re.Match object; span=(77, 78), match='e'>\n",
      "<re.Match object; span=(78, 79), match='t'>\n",
      "<re.Match object; span=(79, 80), match='a'>\n",
      "<re.Match object; span=(80, 81), match='c'>\n",
      "<re.Match object; span=(81, 82), match='h'>\n",
      "<re.Match object; span=(82, 83), match='a'>\n",
      "<re.Match object; span=(83, 84), match='r'>\n",
      "<re.Match object; span=(84, 85), match='e'>\n",
      "<re.Match object; span=(85, 86), match='c'>\n",
      "<re.Match object; span=(86, 87), match='t'>\n",
      "<re.Match object; span=(87, 88), match='e'>\n",
      "<re.Match object; span=(88, 89), match='r'>\n",
      "<re.Match object; span=(89, 90), match='s'>\n",
      "<re.Match object; span=(90, 91), match='('>\n",
      "<re.Match object; span=(91, 92), match='n'>\n",
      "<re.Match object; span=(92, 93), match='e'>\n",
      "<re.Match object; span=(93, 94), match='e'>\n",
      "<re.Match object; span=(94, 95), match='d'>\n",
      "<re.Match object; span=(95, 96), match=' '>\n",
      "<re.Match object; span=(96, 97), match='t'>\n",
      "<re.Match object; span=(97, 98), match='o'>\n",
      "<re.Match object; span=(98, 99), match=' '>\n",
      "<re.Match object; span=(99, 100), match='b'>\n",
      "<re.Match object; span=(100, 101), match='e'>\n",
      "<re.Match object; span=(101, 102), match=' '>\n",
      "<re.Match object; span=(102, 103), match='e'>\n",
      "<re.Match object; span=(103, 104), match='s'>\n",
      "<re.Match object; span=(104, 105), match='c'>\n",
      "<re.Match object; span=(105, 106), match='a'>\n",
      "<re.Match object; span=(106, 107), match='p'>\n",
      "<re.Match object; span=(107, 108), match='e'>\n",
      "<re.Match object; span=(108, 109), match='d'>\n",
      "<re.Match object; span=(109, 110), match=')'>\n",
      "<re.Match object; span=(110, 111), match=':'>\n",
      "<re.Match object; span=(112, 113), match='.'>\n",
      "<re.Match object; span=(113, 114), match=' '>\n",
      "<re.Match object; span=(114, 115), match='^'>\n",
      "<re.Match object; span=(115, 116), match=' '>\n",
      "<re.Match object; span=(116, 117), match='$'>\n",
      "<re.Match object; span=(117, 118), match=' '>\n",
      "<re.Match object; span=(118, 119), match='*'>\n",
      "<re.Match object; span=(119, 120), match=' '>\n",
      "<re.Match object; span=(120, 121), match='+'>\n",
      "<re.Match object; span=(121, 122), match=' '>\n",
      "<re.Match object; span=(122, 123), match='{'>\n",
      "<re.Match object; span=(123, 124), match=' '>\n",
      "<re.Match object; span=(124, 125), match='}'>\n",
      "<re.Match object; span=(125, 126), match=' '>\n",
      "<re.Match object; span=(126, 127), match='['>\n",
      "<re.Match object; span=(127, 128), match=' '>\n",
      "<re.Match object; span=(128, 129), match=']'>\n",
      "<re.Match object; span=(129, 130), match=' '>\n",
      "<re.Match object; span=(130, 131), match='\\\\'>\n",
      "<re.Match object; span=(131, 132), match=' '>\n",
      "<re.Match object; span=(132, 133), match='|'>\n",
      "<re.Match object; span=(133, 134), match=' '>\n",
      "<re.Match object; span=(134, 135), match='('>\n",
      "<re.Match object; span=(135, 136), match=' '>\n",
      "<re.Match object; span=(136, 137), match=')'>\n",
      "<re.Match object; span=(139, 140), match='a'>\n",
      "<re.Match object; span=(140, 141), match='r'>\n",
      "<re.Match object; span=(141, 142), match='v'>\n",
      "<re.Match object; span=(142, 143), match='i'>\n",
      "<re.Match object; span=(143, 144), match='n'>\n",
      "<re.Match object; span=(144, 145), match='d'>\n",
      "<re.Match object; span=(145, 146), match='.'>\n",
      "<re.Match object; span=(146, 147), match='c'>\n",
      "<re.Match object; span=(147, 148), match='o'>\n",
      "<re.Match object; span=(148, 149), match='m'>\n",
      "<re.Match object; span=(151, 152), match='3'>\n",
      "<re.Match object; span=(152, 153), match='2'>\n",
      "<re.Match object; span=(153, 154), match='1'>\n",
      "<re.Match object; span=(154, 155), match='-'>\n",
      "<re.Match object; span=(155, 156), match='5'>\n",
      "<re.Match object; span=(156, 157), match='5'>\n",
      "<re.Match object; span=(157, 158), match='5'>\n",
      "<re.Match object; span=(158, 159), match='-'>\n",
      "<re.Match object; span=(159, 160), match='4'>\n",
      "<re.Match object; span=(160, 161), match='3'>\n",
      "<re.Match object; span=(161, 162), match='2'>\n",
      "<re.Match object; span=(162, 163), match='1'>\n",
      "<re.Match object; span=(164, 165), match='1'>\n",
      "<re.Match object; span=(165, 166), match='2'>\n",
      "<re.Match object; span=(166, 167), match='3'>\n",
      "<re.Match object; span=(167, 168), match='.'>\n",
      "<re.Match object; span=(168, 169), match='4'>\n",
      "<re.Match object; span=(169, 170), match='5'>\n",
      "<re.Match object; span=(170, 171), match='6'>\n",
      "<re.Match object; span=(171, 172), match='.'>\n",
      "<re.Match object; span=(172, 173), match='7'>\n",
      "<re.Match object; span=(173, 174), match='8'>\n",
      "<re.Match object; span=(174, 175), match='9'>\n",
      "<re.Match object; span=(175, 176), match='0'>\n",
      "<re.Match object; span=(177, 178), match='1'>\n",
      "<re.Match object; span=(178, 179), match='2'>\n",
      "<re.Match object; span=(179, 180), match='3'>\n",
      "<re.Match object; span=(180, 181), match='*'>\n",
      "<re.Match object; span=(181, 182), match='4'>\n",
      "<re.Match object; span=(182, 183), match='5'>\n",
      "<re.Match object; span=(183, 184), match='6'>\n",
      "<re.Match object; span=(184, 185), match='*'>\n",
      "<re.Match object; span=(185, 186), match='7'>\n",
      "<re.Match object; span=(186, 187), match='8'>\n",
      "<re.Match object; span=(187, 188), match='9'>\n",
      "<re.Match object; span=(188, 189), match='0'>\n",
      "<re.Match object; span=(190, 191), match='8'>\n",
      "<re.Match object; span=(191, 192), match='0'>\n",
      "<re.Match object; span=(192, 193), match='0'>\n",
      "<re.Match object; span=(193, 194), match='-'>\n",
      "<re.Match object; span=(194, 195), match='5'>\n",
      "<re.Match object; span=(195, 196), match='5'>\n",
      "<re.Match object; span=(196, 197), match='5'>\n",
      "<re.Match object; span=(197, 198), match='-'>\n",
      "<re.Match object; span=(198, 199), match='1'>\n",
      "<re.Match object; span=(199, 200), match='0'>\n",
      "<re.Match object; span=(200, 201), match='0'>\n",
      "<re.Match object; span=(201, 202), match='0'>\n",
      "<re.Match object; span=(203, 204), match='9'>\n",
      "<re.Match object; span=(204, 205), match='0'>\n",
      "<re.Match object; span=(205, 206), match='0'>\n",
      "<re.Match object; span=(206, 207), match='.'>\n",
      "<re.Match object; span=(207, 208), match='6'>\n",
      "<re.Match object; span=(208, 209), match='0'>\n",
      "<re.Match object; span=(209, 210), match='0'>\n",
      "<re.Match object; span=(210, 211), match='.'>\n",
      "<re.Match object; span=(211, 212), match='1'>\n",
      "<re.Match object; span=(212, 213), match='0'>\n",
      "<re.Match object; span=(213, 214), match='0'>\n",
      "<re.Match object; span=(214, 215), match='0'>\n",
      "<re.Match object; span=(217, 218), match='M'>\n",
      "<re.Match object; span=(218, 219), match='r'>\n",
      "<re.Match object; span=(219, 220), match='.'>\n",
      "<re.Match object; span=(220, 221), match='A'>\n",
      "<re.Match object; span=(221, 222), match='s'>\n",
      "<re.Match object; span=(222, 223), match='h'>\n",
      "<re.Match object; span=(223, 224), match='o'>\n",
      "<re.Match object; span=(224, 225), match='k'>\n",
      "<re.Match object; span=(226, 227), match='M'>\n",
      "<re.Match object; span=(227, 228), match='r'>\n",
      "<re.Match object; span=(228, 229), match=' '>\n",
      "<re.Match object; span=(229, 230), match='C'>\n",
      "<re.Match object; span=(230, 231), match='h'>\n",
      "<re.Match object; span=(231, 232), match='a'>\n",
      "<re.Match object; span=(232, 233), match='n'>\n",
      "<re.Match object; span=(233, 234), match='d'>\n",
      "<re.Match object; span=(234, 235), match='r'>\n",
      "<re.Match object; span=(235, 236), match='u'>\n",
      "<re.Match object; span=(237, 238), match='M'>\n",
      "<re.Match object; span=(238, 239), match='s'>\n",
      "<re.Match object; span=(239, 240), match=' '>\n",
      "<re.Match object; span=(240, 241), match='D'>\n",
      "<re.Match object; span=(241, 242), match='a'>\n",
      "<re.Match object; span=(242, 243), match='v'>\n",
      "<re.Match object; span=(243, 244), match='i'>\n",
      "<re.Match object; span=(244, 245), match='s'>\n",
      "<re.Match object; span=(246, 247), match='M'>\n",
      "<re.Match object; span=(247, 248), match='r'>\n",
      "<re.Match object; span=(248, 249), match='s'>\n",
      "<re.Match object; span=(249, 250), match='.'>\n",
      "<re.Match object; span=(250, 251), match='R'>\n",
      "<re.Match object; span=(251, 252), match='o'>\n",
      "<re.Match object; span=(252, 253), match='b'>\n",
      "<re.Match object; span=(253, 254), match='i'>\n",
      "<re.Match object; span=(254, 255), match='n'>\n",
      "<re.Match object; span=(255, 256), match='s'>\n",
      "<re.Match object; span=(256, 257), match='o'>\n",
      "<re.Match object; span=(257, 258), match='n'>\n",
      "<re.Match object; span=(259, 260), match='M'>\n",
      "<re.Match object; span=(260, 261), match='r'>\n",
      "<re.Match object; span=(261, 262), match='.'>\n",
      "<re.Match object; span=(262, 263), match=' '>\n",
      "<re.Match object; span=(263, 264), match='T'>\n",
      "<re.Match object; span=(266, 267), match='c'>\n",
      "<re.Match object; span=(267, 268), match='a'>\n",
      "<re.Match object; span=(268, 269), match='t'>\n",
      "<re.Match object; span=(270, 271), match='m'>\n",
      "<re.Match object; span=(271, 272), match='a'>\n",
      "<re.Match object; span=(272, 273), match='t'>\n",
      "<re.Match object; span=(274, 275), match='b'>\n",
      "<re.Match object; span=(275, 276), match='a'>\n",
      "<re.Match object; span=(276, 277), match='t'>\n",
      "<re.Match object; span=(278, 279), match='s'>\n",
      "<re.Match object; span=(279, 280), match='a'>\n",
      "<re.Match object; span=(280, 281), match='t'>\n",
      "<re.Match object; span=(283, 284), match=' '>\n",
      "<re.Match object; span=(284, 285), match=' '>\n",
      "<re.Match object; span=(285, 286), match=' '>\n",
      "<re.Match object; span=(286, 287), match=' '>\n",
      "<re.Match object; span=(287, 288), match=' '>\n",
      "<re.Match object; span=(288, 289), match=' '>\n",
      "<re.Match object; span=(289, 290), match=' '>\n",
      "<re.Match object; span=(290, 291), match=' '>\n",
      "<re.Match object; span=(291, 292), match=' '>\n",
      "<re.Match object; span=(292, 293), match=' '>\n",
      "<re.Match object; span=(293, 294), match=' '>\n",
      "<re.Match object; span=(294, 295), match=' '>\n"
     ]
    }
   ],
   "source": [
    "#if you want to print everything\n",
    "pattern = re.compile(r'.')#since . is a metacharecter we cant use as it is\n",
    "matches = pattern.finditer(text_to_search)\n",
    "for i in matches:\n",
    "    print(i)"
   ]
  },
  {
   "cell_type": "code",
   "execution_count": 17,
   "metadata": {},
   "outputs": [
    {
     "name": "stdout",
     "output_type": "stream",
     "text": [
      "<re.Match object; span=(139, 149), match='arvind.com'>\n"
     ]
    }
   ],
   "source": [
    "#so we need to escape metacharecter\n",
    "pattern = re.compile(r'arvind\\.com')\n",
    "matches = pattern.finditer(text_to_search)\n",
    "\n",
    "for i in matches:\n",
    "    print(i)"
   ]
  },
  {
   "cell_type": "code",
   "execution_count": 18,
   "metadata": {},
   "outputs": [
    {
     "name": "stdout",
     "output_type": "stream",
     "text": [
      "<re.Match object; span=(55, 56), match='1'>\n",
      "<re.Match object; span=(56, 57), match='2'>\n",
      "<re.Match object; span=(57, 58), match='3'>\n",
      "<re.Match object; span=(58, 59), match='4'>\n",
      "<re.Match object; span=(59, 60), match='5'>\n",
      "<re.Match object; span=(60, 61), match='6'>\n",
      "<re.Match object; span=(61, 62), match='7'>\n",
      "<re.Match object; span=(62, 63), match='8'>\n",
      "<re.Match object; span=(63, 64), match='9'>\n",
      "<re.Match object; span=(64, 65), match='0'>\n",
      "<re.Match object; span=(151, 152), match='3'>\n",
      "<re.Match object; span=(152, 153), match='2'>\n",
      "<re.Match object; span=(153, 154), match='1'>\n",
      "<re.Match object; span=(155, 156), match='5'>\n",
      "<re.Match object; span=(156, 157), match='5'>\n",
      "<re.Match object; span=(157, 158), match='5'>\n",
      "<re.Match object; span=(159, 160), match='4'>\n",
      "<re.Match object; span=(160, 161), match='3'>\n",
      "<re.Match object; span=(161, 162), match='2'>\n",
      "<re.Match object; span=(162, 163), match='1'>\n",
      "<re.Match object; span=(164, 165), match='1'>\n",
      "<re.Match object; span=(165, 166), match='2'>\n",
      "<re.Match object; span=(166, 167), match='3'>\n",
      "<re.Match object; span=(168, 169), match='4'>\n",
      "<re.Match object; span=(169, 170), match='5'>\n",
      "<re.Match object; span=(170, 171), match='6'>\n",
      "<re.Match object; span=(172, 173), match='7'>\n",
      "<re.Match object; span=(173, 174), match='8'>\n",
      "<re.Match object; span=(174, 175), match='9'>\n",
      "<re.Match object; span=(175, 176), match='0'>\n",
      "<re.Match object; span=(177, 178), match='1'>\n",
      "<re.Match object; span=(178, 179), match='2'>\n",
      "<re.Match object; span=(179, 180), match='3'>\n",
      "<re.Match object; span=(181, 182), match='4'>\n",
      "<re.Match object; span=(182, 183), match='5'>\n",
      "<re.Match object; span=(183, 184), match='6'>\n",
      "<re.Match object; span=(185, 186), match='7'>\n",
      "<re.Match object; span=(186, 187), match='8'>\n",
      "<re.Match object; span=(187, 188), match='9'>\n",
      "<re.Match object; span=(188, 189), match='0'>\n",
      "<re.Match object; span=(190, 191), match='8'>\n",
      "<re.Match object; span=(191, 192), match='0'>\n",
      "<re.Match object; span=(192, 193), match='0'>\n",
      "<re.Match object; span=(194, 195), match='5'>\n",
      "<re.Match object; span=(195, 196), match='5'>\n",
      "<re.Match object; span=(196, 197), match='5'>\n",
      "<re.Match object; span=(198, 199), match='1'>\n",
      "<re.Match object; span=(199, 200), match='0'>\n",
      "<re.Match object; span=(200, 201), match='0'>\n",
      "<re.Match object; span=(201, 202), match='0'>\n",
      "<re.Match object; span=(203, 204), match='9'>\n",
      "<re.Match object; span=(204, 205), match='0'>\n",
      "<re.Match object; span=(205, 206), match='0'>\n",
      "<re.Match object; span=(207, 208), match='6'>\n",
      "<re.Match object; span=(208, 209), match='0'>\n",
      "<re.Match object; span=(209, 210), match='0'>\n",
      "<re.Match object; span=(211, 212), match='1'>\n",
      "<re.Match object; span=(212, 213), match='0'>\n",
      "<re.Match object; span=(213, 214), match='0'>\n",
      "<re.Match object; span=(214, 215), match='0'>\n"
     ]
    }
   ],
   "source": [
    "pattern = re.compile(r'\\d')#\\d is a key word for more key word go https://www.w3schools.com/python/python_regex.asp\n",
    "matches = pattern.finditer(text_to_search)\n",
    "for i in matches:\n",
    "    print(i)"
   ]
  },
  {
   "cell_type": "code",
   "execution_count": 19,
   "metadata": {},
   "outputs": [
    {
     "name": "stdout",
     "output_type": "stream",
     "text": [
      "<re.Match object; span=(67, 69), match='Ha'>\n",
      "<re.Match object; span=(70, 72), match='Ha'>\n"
     ]
    }
   ],
   "source": [
    "pattern = re.compile(r'\\bHa')\n",
    "matches = pattern.finditer(text_to_search)\n",
    "for i in matches:\n",
    "    print(i)"
   ]
  },
  {
   "cell_type": "code",
   "execution_count": 20,
   "metadata": {},
   "outputs": [],
   "source": [
    "#note capital keywords are always opposite to small keywords\n",
    "#\\s = white sapce \\S = not a white sapce"
   ]
  },
  {
   "cell_type": "code",
   "execution_count": 21,
   "metadata": {},
   "outputs": [
    {
     "name": "stdout",
     "output_type": "stream",
     "text": [
      "<re.Match object; span=(0, 5), match='start'>\n"
     ]
    }
   ],
   "source": [
    "#^ = begining of a sentence\n",
    "pattern = re.compile(r'^start')\n",
    "matches = pattern.finditer(sentence)\n",
    "for i in matches:\n",
    "    print(i)\n",
    "    #since start is the bigining of the sentence it is printed"
   ]
  },
  {
   "cell_type": "code",
   "execution_count": 22,
   "metadata": {},
   "outputs": [
    {
     "name": "stdout",
     "output_type": "stream",
     "text": [
      "<re.Match object; span=(19, 22), match='end'>\n"
     ]
    }
   ],
   "source": [
    "#$ = end of the sentence\n",
    "pattern = re.compile(r'end$')\n",
    "matches = pattern.finditer(sentence)\n",
    "for i in matches:\n",
    "    print(i)"
   ]
  },
  {
   "cell_type": "code",
   "execution_count": 23,
   "metadata": {},
   "outputs": [
    {
     "name": "stdout",
     "output_type": "stream",
     "text": [
      "<re.Match object; span=(151, 163), match='321-555-4321'>\n",
      "<re.Match object; span=(164, 176), match='123.456.7890'>\n",
      "<re.Match object; span=(177, 189), match='123*456*7890'>\n",
      "<re.Match object; span=(190, 202), match='800-555-1000'>\n",
      "<re.Match object; span=(203, 215), match='900.600.1000'>\n"
     ]
    }
   ],
   "source": [
    "#matching multiple digits\n",
    "pattern = re.compile(r'\\d\\d\\d.\\d\\d\\d.\\d\\d\\d\\d')\n",
    "matches = pattern.finditer(text_to_search)\n",
    "for i in matches:\n",
    "    print(i)\n",
    "    \n",
    "#. matches any charecter"
   ]
  },
  {
   "cell_type": "code",
   "execution_count": 24,
   "metadata": {},
   "outputs": [
    {
     "name": "stdout",
     "output_type": "stream",
     "text": [
      "<re.Match object; span=(151, 163), match='321-555-4321'>\n",
      "<re.Match object; span=(164, 176), match='123.456.7890'>\n",
      "<re.Match object; span=(190, 202), match='800-555-1000'>\n",
      "<re.Match object; span=(203, 215), match='900.600.1000'>\n"
     ]
    }
   ],
   "source": [
    "#so to avoid this we use []\n",
    "pattern = re.compile(r'\\d\\d\\d[.-]\\d\\d\\d[.-]\\d\\d\\d\\d')\n",
    "matches = pattern.finditer(text_to_search)\n",
    "for i in matches:\n",
    "    print(i)\n",
    "\n",
    "#[.-] this means . or - get the value\n",
    "#so this is how you specify metachrecters\n",
    "#we even dont escape the metacharecter like this \\."
   ]
  },
  {
   "cell_type": "code",
   "execution_count": 25,
   "metadata": {},
   "outputs": [
    {
     "name": "stdout",
     "output_type": "stream",
     "text": [
      "<re.Match object; span=(190, 202), match='800-555-1000'>\n",
      "<re.Match object; span=(203, 215), match='900.600.1000'>\n"
     ]
    }
   ],
   "source": [
    "#another example\n",
    "pattern = re.compile(r'[89]00[-.]\\d\\d\\d[-.]\\d\\d\\d\\d')\n",
    "matches = pattern.finditer(text_to_search)\n",
    "for i in matches:\n",
    "    print(i)\n",
    "#[89] this means 8 or 9 followed by 00 "
   ]
  },
  {
   "cell_type": "code",
   "execution_count": 26,
   "metadata": {},
   "outputs": [
    {
     "name": "stdout",
     "output_type": "stream",
     "text": [
      "<re.Match object; span=(1, 2), match='a'>\n",
      "<re.Match object; span=(2, 3), match='b'>\n",
      "<re.Match object; span=(3, 4), match='c'>\n",
      "<re.Match object; span=(4, 5), match='d'>\n",
      "<re.Match object; span=(5, 6), match='e'>\n",
      "<re.Match object; span=(6, 7), match='f'>\n",
      "<re.Match object; span=(7, 8), match='g'>\n",
      "<re.Match object; span=(8, 9), match='h'>\n",
      "<re.Match object; span=(9, 10), match='i'>\n",
      "<re.Match object; span=(10, 11), match='j'>\n",
      "<re.Match object; span=(11, 12), match='k'>\n",
      "<re.Match object; span=(12, 13), match='l'>\n",
      "<re.Match object; span=(13, 14), match='m'>\n",
      "<re.Match object; span=(14, 15), match='n'>\n",
      "<re.Match object; span=(15, 16), match='o'>\n",
      "<re.Match object; span=(16, 17), match='p'>\n",
      "<re.Match object; span=(17, 18), match='q'>\n",
      "<re.Match object; span=(18, 19), match='r'>\n",
      "<re.Match object; span=(19, 20), match='s'>\n",
      "<re.Match object; span=(20, 21), match='t'>\n",
      "<re.Match object; span=(21, 22), match='u'>\n",
      "<re.Match object; span=(22, 23), match='v'>\n",
      "<re.Match object; span=(23, 24), match='w'>\n",
      "<re.Match object; span=(24, 25), match='x'>\n",
      "<re.Match object; span=(25, 26), match='y'>\n",
      "<re.Match object; span=(26, 27), match='z'>\n",
      "<re.Match object; span=(28, 29), match='A'>\n",
      "<re.Match object; span=(29, 30), match='B'>\n",
      "<re.Match object; span=(30, 31), match='C'>\n",
      "<re.Match object; span=(31, 32), match='D'>\n",
      "<re.Match object; span=(32, 33), match='E'>\n",
      "<re.Match object; span=(33, 34), match='F'>\n",
      "<re.Match object; span=(34, 35), match='G'>\n",
      "<re.Match object; span=(35, 36), match='H'>\n",
      "<re.Match object; span=(36, 37), match='I'>\n",
      "<re.Match object; span=(37, 38), match='J'>\n",
      "<re.Match object; span=(38, 39), match='K'>\n",
      "<re.Match object; span=(39, 40), match='L'>\n",
      "<re.Match object; span=(40, 41), match='M'>\n",
      "<re.Match object; span=(41, 42), match='N'>\n",
      "<re.Match object; span=(42, 43), match='O'>\n",
      "<re.Match object; span=(43, 44), match='P'>\n",
      "<re.Match object; span=(44, 45), match='Q'>\n",
      "<re.Match object; span=(45, 46), match='R'>\n",
      "<re.Match object; span=(46, 47), match='S'>\n",
      "<re.Match object; span=(47, 48), match='T'>\n",
      "<re.Match object; span=(48, 49), match='U'>\n",
      "<re.Match object; span=(49, 50), match='V'>\n",
      "<re.Match object; span=(50, 51), match='W'>\n",
      "<re.Match object; span=(51, 52), match='X'>\n",
      "<re.Match object; span=(52, 53), match='Y'>\n",
      "<re.Match object; span=(53, 54), match='Z'>\n",
      "<re.Match object; span=(67, 68), match='H'>\n",
      "<re.Match object; span=(68, 69), match='a'>\n",
      "<re.Match object; span=(70, 71), match='H'>\n",
      "<re.Match object; span=(71, 72), match='a'>\n",
      "<re.Match object; span=(72, 73), match='H'>\n",
      "<re.Match object; span=(73, 74), match='a'>\n",
      "<re.Match object; span=(76, 77), match='m'>\n",
      "<re.Match object; span=(77, 78), match='e'>\n",
      "<re.Match object; span=(78, 79), match='t'>\n",
      "<re.Match object; span=(79, 80), match='a'>\n",
      "<re.Match object; span=(80, 81), match='c'>\n",
      "<re.Match object; span=(81, 82), match='h'>\n",
      "<re.Match object; span=(82, 83), match='a'>\n",
      "<re.Match object; span=(83, 84), match='r'>\n",
      "<re.Match object; span=(84, 85), match='e'>\n",
      "<re.Match object; span=(85, 86), match='c'>\n",
      "<re.Match object; span=(86, 87), match='t'>\n",
      "<re.Match object; span=(87, 88), match='e'>\n",
      "<re.Match object; span=(88, 89), match='r'>\n",
      "<re.Match object; span=(89, 90), match='s'>\n",
      "<re.Match object; span=(91, 92), match='n'>\n",
      "<re.Match object; span=(92, 93), match='e'>\n",
      "<re.Match object; span=(93, 94), match='e'>\n",
      "<re.Match object; span=(94, 95), match='d'>\n",
      "<re.Match object; span=(96, 97), match='t'>\n",
      "<re.Match object; span=(97, 98), match='o'>\n",
      "<re.Match object; span=(99, 100), match='b'>\n",
      "<re.Match object; span=(100, 101), match='e'>\n",
      "<re.Match object; span=(102, 103), match='e'>\n",
      "<re.Match object; span=(103, 104), match='s'>\n",
      "<re.Match object; span=(104, 105), match='c'>\n",
      "<re.Match object; span=(105, 106), match='a'>\n",
      "<re.Match object; span=(106, 107), match='p'>\n",
      "<re.Match object; span=(107, 108), match='e'>\n",
      "<re.Match object; span=(108, 109), match='d'>\n",
      "<re.Match object; span=(114, 115), match='^'>\n",
      "<re.Match object; span=(126, 127), match='['>\n",
      "<re.Match object; span=(128, 129), match=']'>\n",
      "<re.Match object; span=(130, 131), match='\\\\'>\n",
      "<re.Match object; span=(139, 140), match='a'>\n",
      "<re.Match object; span=(140, 141), match='r'>\n",
      "<re.Match object; span=(141, 142), match='v'>\n",
      "<re.Match object; span=(142, 143), match='i'>\n",
      "<re.Match object; span=(143, 144), match='n'>\n",
      "<re.Match object; span=(144, 145), match='d'>\n",
      "<re.Match object; span=(146, 147), match='c'>\n",
      "<re.Match object; span=(147, 148), match='o'>\n",
      "<re.Match object; span=(148, 149), match='m'>\n",
      "<re.Match object; span=(217, 218), match='M'>\n",
      "<re.Match object; span=(218, 219), match='r'>\n",
      "<re.Match object; span=(220, 221), match='A'>\n",
      "<re.Match object; span=(221, 222), match='s'>\n",
      "<re.Match object; span=(222, 223), match='h'>\n",
      "<re.Match object; span=(223, 224), match='o'>\n",
      "<re.Match object; span=(224, 225), match='k'>\n",
      "<re.Match object; span=(226, 227), match='M'>\n",
      "<re.Match object; span=(227, 228), match='r'>\n",
      "<re.Match object; span=(229, 230), match='C'>\n",
      "<re.Match object; span=(230, 231), match='h'>\n",
      "<re.Match object; span=(231, 232), match='a'>\n",
      "<re.Match object; span=(232, 233), match='n'>\n",
      "<re.Match object; span=(233, 234), match='d'>\n",
      "<re.Match object; span=(234, 235), match='r'>\n",
      "<re.Match object; span=(235, 236), match='u'>\n",
      "<re.Match object; span=(237, 238), match='M'>\n",
      "<re.Match object; span=(238, 239), match='s'>\n",
      "<re.Match object; span=(240, 241), match='D'>\n",
      "<re.Match object; span=(241, 242), match='a'>\n",
      "<re.Match object; span=(242, 243), match='v'>\n",
      "<re.Match object; span=(243, 244), match='i'>\n",
      "<re.Match object; span=(244, 245), match='s'>\n",
      "<re.Match object; span=(246, 247), match='M'>\n",
      "<re.Match object; span=(247, 248), match='r'>\n",
      "<re.Match object; span=(248, 249), match='s'>\n",
      "<re.Match object; span=(250, 251), match='R'>\n",
      "<re.Match object; span=(251, 252), match='o'>\n",
      "<re.Match object; span=(252, 253), match='b'>\n",
      "<re.Match object; span=(253, 254), match='i'>\n",
      "<re.Match object; span=(254, 255), match='n'>\n",
      "<re.Match object; span=(255, 256), match='s'>\n",
      "<re.Match object; span=(256, 257), match='o'>\n",
      "<re.Match object; span=(257, 258), match='n'>\n",
      "<re.Match object; span=(259, 260), match='M'>\n",
      "<re.Match object; span=(260, 261), match='r'>\n",
      "<re.Match object; span=(263, 264), match='T'>\n",
      "<re.Match object; span=(266, 267), match='c'>\n",
      "<re.Match object; span=(267, 268), match='a'>\n",
      "<re.Match object; span=(268, 269), match='t'>\n",
      "<re.Match object; span=(270, 271), match='m'>\n",
      "<re.Match object; span=(271, 272), match='a'>\n",
      "<re.Match object; span=(272, 273), match='t'>\n",
      "<re.Match object; span=(274, 275), match='b'>\n",
      "<re.Match object; span=(275, 276), match='a'>\n",
      "<re.Match object; span=(276, 277), match='t'>\n",
      "<re.Match object; span=(278, 279), match='s'>\n",
      "<re.Match object; span=(279, 280), match='a'>\n",
      "<re.Match object; span=(280, 281), match='t'>\n"
     ]
    }
   ],
   "source": [
    "#another example\n",
    "pattern = re.compile(r'[a-zA-z]')\n",
    "matches = pattern.finditer(text_to_search)\n",
    "for i in matches:\n",
    "    print(i)"
   ]
  },
  {
   "cell_type": "code",
   "execution_count": 27,
   "metadata": {},
   "outputs": [
    {
     "name": "stdout",
     "output_type": "stream",
     "text": [
      "<re.Match object; span=(0, 1), match='\\n'>\n",
      "<re.Match object; span=(27, 28), match='\\n'>\n",
      "<re.Match object; span=(54, 55), match='\\n'>\n",
      "<re.Match object; span=(55, 56), match='1'>\n",
      "<re.Match object; span=(56, 57), match='2'>\n",
      "<re.Match object; span=(57, 58), match='3'>\n",
      "<re.Match object; span=(58, 59), match='4'>\n",
      "<re.Match object; span=(59, 60), match='5'>\n",
      "<re.Match object; span=(60, 61), match='6'>\n",
      "<re.Match object; span=(61, 62), match='7'>\n",
      "<re.Match object; span=(62, 63), match='8'>\n",
      "<re.Match object; span=(63, 64), match='9'>\n",
      "<re.Match object; span=(64, 65), match='0'>\n",
      "<re.Match object; span=(65, 66), match='\\n'>\n",
      "<re.Match object; span=(66, 67), match='\\n'>\n",
      "<re.Match object; span=(69, 70), match=' '>\n",
      "<re.Match object; span=(74, 75), match='\\n'>\n",
      "<re.Match object; span=(75, 76), match='\\n'>\n",
      "<re.Match object; span=(90, 91), match='('>\n",
      "<re.Match object; span=(95, 96), match=' '>\n",
      "<re.Match object; span=(98, 99), match=' '>\n",
      "<re.Match object; span=(101, 102), match=' '>\n",
      "<re.Match object; span=(109, 110), match=')'>\n",
      "<re.Match object; span=(110, 111), match=':'>\n",
      "<re.Match object; span=(111, 112), match='\\n'>\n",
      "<re.Match object; span=(112, 113), match='.'>\n",
      "<re.Match object; span=(113, 114), match=' '>\n",
      "<re.Match object; span=(114, 115), match='^'>\n",
      "<re.Match object; span=(115, 116), match=' '>\n",
      "<re.Match object; span=(116, 117), match='$'>\n",
      "<re.Match object; span=(117, 118), match=' '>\n",
      "<re.Match object; span=(118, 119), match='*'>\n",
      "<re.Match object; span=(119, 120), match=' '>\n",
      "<re.Match object; span=(120, 121), match='+'>\n",
      "<re.Match object; span=(121, 122), match=' '>\n",
      "<re.Match object; span=(122, 123), match='{'>\n",
      "<re.Match object; span=(123, 124), match=' '>\n",
      "<re.Match object; span=(124, 125), match='}'>\n",
      "<re.Match object; span=(125, 126), match=' '>\n",
      "<re.Match object; span=(126, 127), match='['>\n",
      "<re.Match object; span=(127, 128), match=' '>\n",
      "<re.Match object; span=(128, 129), match=']'>\n",
      "<re.Match object; span=(129, 130), match=' '>\n",
      "<re.Match object; span=(130, 131), match='\\\\'>\n",
      "<re.Match object; span=(131, 132), match=' '>\n",
      "<re.Match object; span=(132, 133), match='|'>\n",
      "<re.Match object; span=(133, 134), match=' '>\n",
      "<re.Match object; span=(134, 135), match='('>\n",
      "<re.Match object; span=(135, 136), match=' '>\n",
      "<re.Match object; span=(136, 137), match=')'>\n",
      "<re.Match object; span=(137, 138), match='\\n'>\n",
      "<re.Match object; span=(138, 139), match='\\n'>\n",
      "<re.Match object; span=(145, 146), match='.'>\n",
      "<re.Match object; span=(149, 150), match='\\n'>\n",
      "<re.Match object; span=(150, 151), match='\\n'>\n",
      "<re.Match object; span=(151, 152), match='3'>\n",
      "<re.Match object; span=(152, 153), match='2'>\n",
      "<re.Match object; span=(153, 154), match='1'>\n",
      "<re.Match object; span=(154, 155), match='-'>\n",
      "<re.Match object; span=(155, 156), match='5'>\n",
      "<re.Match object; span=(156, 157), match='5'>\n",
      "<re.Match object; span=(157, 158), match='5'>\n",
      "<re.Match object; span=(158, 159), match='-'>\n",
      "<re.Match object; span=(159, 160), match='4'>\n",
      "<re.Match object; span=(160, 161), match='3'>\n",
      "<re.Match object; span=(161, 162), match='2'>\n",
      "<re.Match object; span=(162, 163), match='1'>\n",
      "<re.Match object; span=(163, 164), match='\\n'>\n",
      "<re.Match object; span=(164, 165), match='1'>\n",
      "<re.Match object; span=(165, 166), match='2'>\n",
      "<re.Match object; span=(166, 167), match='3'>\n",
      "<re.Match object; span=(167, 168), match='.'>\n",
      "<re.Match object; span=(168, 169), match='4'>\n",
      "<re.Match object; span=(169, 170), match='5'>\n",
      "<re.Match object; span=(170, 171), match='6'>\n",
      "<re.Match object; span=(171, 172), match='.'>\n",
      "<re.Match object; span=(172, 173), match='7'>\n",
      "<re.Match object; span=(173, 174), match='8'>\n",
      "<re.Match object; span=(174, 175), match='9'>\n",
      "<re.Match object; span=(175, 176), match='0'>\n",
      "<re.Match object; span=(176, 177), match='\\n'>\n",
      "<re.Match object; span=(177, 178), match='1'>\n",
      "<re.Match object; span=(178, 179), match='2'>\n",
      "<re.Match object; span=(179, 180), match='3'>\n",
      "<re.Match object; span=(180, 181), match='*'>\n",
      "<re.Match object; span=(181, 182), match='4'>\n",
      "<re.Match object; span=(182, 183), match='5'>\n",
      "<re.Match object; span=(183, 184), match='6'>\n",
      "<re.Match object; span=(184, 185), match='*'>\n",
      "<re.Match object; span=(185, 186), match='7'>\n",
      "<re.Match object; span=(186, 187), match='8'>\n",
      "<re.Match object; span=(187, 188), match='9'>\n",
      "<re.Match object; span=(188, 189), match='0'>\n",
      "<re.Match object; span=(189, 190), match='\\n'>\n",
      "<re.Match object; span=(190, 191), match='8'>\n",
      "<re.Match object; span=(191, 192), match='0'>\n",
      "<re.Match object; span=(192, 193), match='0'>\n",
      "<re.Match object; span=(193, 194), match='-'>\n",
      "<re.Match object; span=(194, 195), match='5'>\n",
      "<re.Match object; span=(195, 196), match='5'>\n",
      "<re.Match object; span=(196, 197), match='5'>\n",
      "<re.Match object; span=(197, 198), match='-'>\n",
      "<re.Match object; span=(198, 199), match='1'>\n",
      "<re.Match object; span=(199, 200), match='0'>\n",
      "<re.Match object; span=(200, 201), match='0'>\n",
      "<re.Match object; span=(201, 202), match='0'>\n",
      "<re.Match object; span=(202, 203), match='\\n'>\n",
      "<re.Match object; span=(203, 204), match='9'>\n",
      "<re.Match object; span=(204, 205), match='0'>\n",
      "<re.Match object; span=(205, 206), match='0'>\n",
      "<re.Match object; span=(206, 207), match='.'>\n",
      "<re.Match object; span=(207, 208), match='6'>\n",
      "<re.Match object; span=(208, 209), match='0'>\n",
      "<re.Match object; span=(209, 210), match='0'>\n",
      "<re.Match object; span=(210, 211), match='.'>\n",
      "<re.Match object; span=(211, 212), match='1'>\n",
      "<re.Match object; span=(212, 213), match='0'>\n",
      "<re.Match object; span=(213, 214), match='0'>\n",
      "<re.Match object; span=(214, 215), match='0'>\n",
      "<re.Match object; span=(215, 216), match='\\n'>\n",
      "<re.Match object; span=(216, 217), match='\\n'>\n",
      "<re.Match object; span=(219, 220), match='.'>\n",
      "<re.Match object; span=(225, 226), match='\\n'>\n",
      "<re.Match object; span=(228, 229), match=' '>\n",
      "<re.Match object; span=(236, 237), match='\\n'>\n",
      "<re.Match object; span=(239, 240), match=' '>\n",
      "<re.Match object; span=(245, 246), match='\\n'>\n",
      "<re.Match object; span=(249, 250), match='.'>\n",
      "<re.Match object; span=(258, 259), match='\\n'>\n",
      "<re.Match object; span=(261, 262), match='.'>\n",
      "<re.Match object; span=(262, 263), match=' '>\n",
      "<re.Match object; span=(264, 265), match='\\n'>\n",
      "<re.Match object; span=(265, 266), match='\\n'>\n",
      "<re.Match object; span=(269, 270), match='\\n'>\n",
      "<re.Match object; span=(273, 274), match='\\n'>\n",
      "<re.Match object; span=(277, 278), match='\\n'>\n",
      "<re.Match object; span=(281, 282), match='\\n'>\n",
      "<re.Match object; span=(282, 283), match='\\n'>\n",
      "<re.Match object; span=(283, 284), match=' '>\n",
      "<re.Match object; span=(284, 285), match=' '>\n",
      "<re.Match object; span=(285, 286), match=' '>\n",
      "<re.Match object; span=(286, 287), match=' '>\n",
      "<re.Match object; span=(287, 288), match=' '>\n",
      "<re.Match object; span=(288, 289), match=' '>\n",
      "<re.Match object; span=(289, 290), match=' '>\n",
      "<re.Match object; span=(290, 291), match=' '>\n",
      "<re.Match object; span=(291, 292), match=' '>\n",
      "<re.Match object; span=(292, 293), match=' '>\n",
      "<re.Match object; span=(293, 294), match=' '>\n",
      "<re.Match object; span=(294, 295), match=' '>\n"
     ]
    }
   ],
   "source": [
    "#^ inside [] acts different\n",
    "pattern = re.compile(r'[^a-zA-Z]')\n",
    "matches = pattern.finditer(text_to_search)\n",
    "for i in matches:\n",
    "    print(i)\n",
    "\n",
    "#^ outside [] prints begining of the statment\n",
    "#[^a-z] prints value except a-z"
   ]
  },
  {
   "cell_type": "code",
   "execution_count": 28,
   "metadata": {},
   "outputs": [
    {
     "name": "stdout",
     "output_type": "stream",
     "text": [
      "<re.Match object; span=(266, 269), match='cat'>\n",
      "<re.Match object; span=(270, 273), match='mat'>\n",
      "<re.Match object; span=(278, 281), match='sat'>\n"
     ]
    }
   ],
   "source": [
    "#another example\n",
    "pattern = re.compile(r'[^b]at')\n",
    "matches = pattern.finditer(text_to_search)\n",
    "for i in matches:\n",
    "    print(i)"
   ]
  },
  {
   "cell_type": "code",
   "execution_count": 29,
   "metadata": {},
   "outputs": [],
   "source": [
    "#quantifiers they are used to reduce mistakes in the way that\n",
    "#re.compile(/d/d/d./d/d/d/d./d/d/d/d) what if you gave more keywords\n",
    "#to avoid this quantifiers are used"
   ]
  },
  {
   "cell_type": "code",
   "execution_count": 30,
   "metadata": {},
   "outputs": [
    {
     "name": "stdout",
     "output_type": "stream",
     "text": [
      "<re.Match object; span=(151, 163), match='321-555-4321'>\n",
      "<re.Match object; span=(164, 176), match='123.456.7890'>\n",
      "<re.Match object; span=(177, 189), match='123*456*7890'>\n",
      "<re.Match object; span=(190, 202), match='800-555-1000'>\n",
      "<re.Match object; span=(203, 215), match='900.600.1000'>\n"
     ]
    }
   ],
   "source": [
    "#{} = quantifier\n",
    "pattern = re.compile(r'\\d{3}.\\d{3}.\\d{4}')\n",
    "matches = pattern.finditer(text_to_search)\n",
    "for i in matches:\n",
    "    print(i)"
   ]
  },
  {
   "cell_type": "code",
   "execution_count": 31,
   "metadata": {},
   "outputs": [
    {
     "name": "stdout",
     "output_type": "stream",
     "text": [
      "<re.Match object; span=(217, 220), match='Mr.'>\n",
      "<re.Match object; span=(259, 262), match='Mr.'>\n"
     ]
    }
   ],
   "source": [
    "#we need to print all Mr\n",
    "pattern = re.compile(r'Mr\\.')\n",
    "matches = pattern.finditer(text_to_search)\n",
    "for i in matches:\n",
    "    print(i)\n",
    "\n",
    "#but only one Mr is printed\n",
    "#because there is only one Mr.\n",
    "#the . varies"
   ]
  },
  {
   "cell_type": "code",
   "execution_count": 32,
   "metadata": {},
   "outputs": [
    {
     "name": "stdout",
     "output_type": "stream",
     "text": [
      "<re.Match object; span=(217, 220), match='Mr.'>\n",
      "<re.Match object; span=(226, 228), match='Mr'>\n",
      "<re.Match object; span=(246, 248), match='Mr'>\n",
      "<re.Match object; span=(259, 262), match='Mr.'>\n"
     ]
    }
   ],
   "source": [
    "#so to prevent this use ? = quantifier it checks 0 or 1 that means any onething or nothing \n",
    "pattern = re.compile(r'Mr\\.?')\n",
    "matches = pattern.finditer(text_to_search)\n",
    "for i in matches:\n",
    "    print(i)"
   ]
  },
  {
   "cell_type": "code",
   "execution_count": 33,
   "metadata": {},
   "outputs": [
    {
     "name": "stdout",
     "output_type": "stream",
     "text": [
      "<re.Match object; span=(226, 236), match='Mr Chandru'>\n"
     ]
    }
   ],
   "source": [
    "# + = quantifier\n",
    "pattern = re.compile(r'Mr\\.?\\s[A-Z]\\w+')#\\w check wheather any word is matching\n",
    "matches = pattern.finditer(text_to_search)\n",
    "for i in matches:\n",
    "    print(i)\n",
    "    \n",
    "#it check for second letter of the word \n",
    "#this used used when you need one or more matches"
   ]
  },
  {
   "cell_type": "code",
   "execution_count": 34,
   "metadata": {},
   "outputs": [
    {
     "name": "stdout",
     "output_type": "stream",
     "text": [
      "<re.Match object; span=(226, 236), match='Mr Chandru'>\n",
      "<re.Match object; span=(259, 264), match='Mr. T'>\n"
     ]
    }
   ],
   "source": [
    "# * =  quantifyer\n",
    "pattern = re.compile(r'Mr\\.?\\s[A-Z]\\w*')\n",
    "matches = pattern.finditer(text_to_search)\n",
    "for i in matches:\n",
    "    print(i)\n",
    "    \n",
    "#it does not check for next letter of the word\n",
    "#it prints all after the first word\n",
    "#this used used when you need zero or more matches"
   ]
  },
  {
   "cell_type": "code",
   "execution_count": 35,
   "metadata": {},
   "outputs": [
    {
     "name": "stdout",
     "output_type": "stream",
     "text": [
      "<re.Match object; span=(226, 236), match='Mr Chandru'>\n",
      "<re.Match object; span=(237, 245), match='Ms Davis'>\n",
      "<re.Match object; span=(259, 264), match='Mr. T'>\n"
     ]
    }
   ],
   "source": [
    "#what iff we want to match all \n",
    "#we can use group and or\n",
    "pattern = re.compile(r'M(r|s|rs)\\.?\\s[A-Z]\\w*')\n",
    "matches = pattern.finditer(text_to_search)\n",
    "for i in matches:\n",
    "    print(i)\n",
    "    \n",
    "#it does not check for next letter of the word"
   ]
  },
  {
   "cell_type": "code",
   "execution_count": 5,
   "metadata": {},
   "outputs": [],
   "source": [
    "#recap with a problem\n",
    "with open('re_documentation','r') as f:\n",
    "    contents = f.read()\n",
    "       \n",
    "#we need to match this all"
   ]
  },
  {
   "cell_type": "code",
   "execution_count": 6,
   "metadata": {},
   "outputs": [
    {
     "name": "stdout",
     "output_type": "stream",
     "text": [
      "<re.Match object; span=(0, 16), match='arvind@gmail.com'>\n",
      "<re.Match object; span=(21, 42), match='chandru-123-@gmail.co'>\n",
      "<re.Match object; span=(43, 65), match='Ashok-1010@universe.in'>\n",
      "<re.Match object; span=(66, 88), match='Bharath.*fun@yahoo.com'>\n",
      "<re.Match object; span=(89, 103), match='*-hi@gmail.com'>\n",
      "<re.Match object; span=(104, 123), match='mrperfect@gmail.com'>\n",
      "<re.Match object; span=(128, 136), match='ass@.com'>\n"
     ]
    }
   ],
   "source": [
    "#answer\n",
    "pattern = re.compile(r'[*a-zA-z][a-zA-Z\\d.-]+[*@][a-zA-z@.]*')\n",
    "matches = pattern.finditer(contents)\n",
    "for i in matches:\n",
    "    print(i)"
   ]
  },
  {
   "cell_type": "code",
   "execution_count": 38,
   "metadata": {},
   "outputs": [],
   "source": [
    "urls='''\n",
    "https://www.google.com\n",
    "http ://yahoo.com\n",
    "https://youtube.in\n",
    "https://www.isro.gov\n",
    "    '''"
   ]
  },
  {
   "cell_type": "code",
   "execution_count": 39,
   "metadata": {},
   "outputs": [],
   "source": [
    "#groups == () it works on index number basis\n",
    "#no of () is the number of index\n",
    "#here we are goingsplit the url into\n",
    "#seperate parts in sence domain www\n",
    "#domain name google,yahoo ect\n",
    "#top level domain .com .in ico ect"
   ]
  },
  {
   "cell_type": "code",
   "execution_count": 40,
   "metadata": {},
   "outputs": [
    {
     "name": "stdout",
     "output_type": "stream",
     "text": [
      ".com\n",
      ".com\n",
      ".in\n",
      ".gov\n"
     ]
    }
   ],
   "source": [
    "pattern = re.compile(r'[\\w\\s]+://(www\\.)?(\\w+)(\\.\\w+)')\n",
    "match = pattern.finditer(urls)\n",
    "for i in match:\n",
    "    print(i.group(3))"
   ]
  },
  {
   "cell_type": "code",
   "execution_count": 41,
   "metadata": {},
   "outputs": [
    {
     "name": "stdout",
     "output_type": "stream",
     "text": [
      "google.com\n",
      "yahoo.com\n",
      "youtube.in\n",
      "isro.gov\n",
      "\n",
      "    \n"
     ]
    }
   ],
   "source": [
    "#sub it works based on groups.\n",
    "#the group number or index and keywords \n",
    "#can be fed into sub with the documentation \n",
    "subbed_url=pattern.sub(r'\\2\\3\\n',urls)\n",
    "print(subbed_url)"
   ]
  },
  {
   "cell_type": "code",
   "execution_count": 42,
   "metadata": {},
   "outputs": [
    {
     "name": "stdout",
     "output_type": "stream",
     "text": [
      "321-555-4321\n",
      "123.456.7890\n",
      "123*456*7890\n",
      "800-555-1000\n",
      "900.600.1000\n"
     ]
    }
   ],
   "source": [
    "#substitution for finditer method however finiter is best\n",
    "#group cant be use in findall method\n",
    "#it prints all mactches\n",
    "pattern = re.compile('\\d{3}.\\d{3}.\\d{4}')\n",
    "match = pattern.findall(text_to_search)\n",
    "for i in match:\n",
    "    print(i)"
   ]
  },
  {
   "cell_type": "code",
   "execution_count": 43,
   "metadata": {},
   "outputs": [
    {
     "name": "stdout",
     "output_type": "stream",
     "text": [
      "<re.Match object; span=(0, 2), match='hi'>\n"
     ]
    }
   ],
   "source": [
    "#match only find the position of the first word in the sentence\n",
    "#if you pass any word instead of first word then it shows none\n",
    "#its function is as same as ^ when ^ used outside[]\n",
    "#it prints only one match so no for loop needed\n",
    "words = 'hi My Friend how are you'\n",
    "pattern = re.compile('hi')\n",
    "match = pattern.match(words)\n",
    "print(match)"
   ]
  },
  {
   "cell_type": "code",
   "execution_count": 44,
   "metadata": {},
   "outputs": [
    {
     "name": "stdout",
     "output_type": "stream",
     "text": [
      "<re.Match object; span=(13, 16), match='how'>\n"
     ]
    }
   ],
   "source": [
    "#search = if you want to search a string in the whoe sentence\n",
    "pattern = re.compile('how')\n",
    "match = pattern.search(words)\n",
    "print(match)"
   ]
  },
  {
   "cell_type": "code",
   "execution_count": 45,
   "metadata": {},
   "outputs": [
    {
     "name": "stdout",
     "output_type": "stream",
     "text": [
      "<re.Match object; span=(6, 12), match='Friend'>\n"
     ]
    }
   ],
   "source": [
    "#flags = there are many flags one among them is \n",
    "#IGNORECASE or I\n",
    "#it dont mind of upper and lower cases \n",
    "#so that mistakes can be reduced\n",
    "pattern = re.compile('friend',re.I)\n",
    "match = pattern.search(words)\n",
    "print(match)"
   ]
  },
  {
   "cell_type": "code",
   "execution_count": 50,
   "metadata": {},
   "outputs": [
    {
     "name": "stdout",
     "output_type": "stream",
     "text": [
      "cd\n",
      "ef\n"
     ]
    }
   ],
   "source": [
    "#DOTALL or S flag\n",
    "#. represents all charecters in regular expession except newline\n",
    "#so to make it accept new line also DOTALL is used\n",
    "s = 'abcd\\nefgh\\nhijk\\nlmno\\npqrst'\n",
    "\n",
    "m = re.search('Cd.ef',s,re.S | re.I)\n",
    "if m:\n",
    "    print(m.group(0))\n",
    "else:\n",
    "    print('no match')"
   ]
  },
  {
   "cell_type": "code",
   "execution_count": 47,
   "metadata": {},
   "outputs": [],
   "source": [
    "#MULTILINE flag\n",
    "#when you have a documentation a want to find first and \n",
    "#last word of each line you can use this\n",
    "#if you dont use this flag then only the first word\n",
    "#of first and last word of first line is checked"
   ]
  },
  {
   "cell_type": "code",
   "execution_count": 48,
   "metadata": {},
   "outputs": [
    {
     "data": {
      "text/plain": [
       "'\\nre.I\\tre.IGNORECASE\\tignore case.\\nre.M\\tre.MULTILINE\\tmake begin/end {^, $} consider each line.\\nre.S\\tre.DOTALL\\tmake . match newline too.\\nre.U\\tre.UNICODE\\tmake {\\\\w, \\\\W, \\x08, \\\\B} follow Unicode rules.\\nre.L\\tre.LOCALE\\tmake {\\\\w, \\\\W, \\x08, \\\\B} follow locale.\\nre.X\\tre.VERBOSE\\tallow comment in regex.\\n'"
      ]
     },
     "execution_count": 48,
     "metadata": {},
     "output_type": "execute_result"
    }
   ],
   "source": [
    "\n",
    "#all re flags \n",
    "'''\n",
    "re.I\tre.IGNORECASE\tignore case.\n",
    "re.M\tre.MULTILINE\tmake begin/end {^, $} consider each line.\n",
    "re.S\tre.DOTALL\tmake . match newline too.\n",
    "re.U\tre.UNICODE\tmake {\\w, \\W, \\b, \\B} follow Unicode rules.\n",
    "re.L\tre.LOCALE\tmake {\\w, \\W, \\b, \\B} follow locale.\n",
    "re.X\tre.VERBOSE\tallow comment in regex.\n",
    "'''"
   ]
  },
  {
   "cell_type": "code",
   "execution_count": 65,
   "metadata": {},
   "outputs": [
    {
     "name": "stdout",
     "output_type": "stream",
     "text": [
      "<re.Match object; span=(0, 16), match='arvind@gmail.com'>\n",
      "<re.Match object; span=(75, 88), match='fun@yahoo.com'>\n",
      "<re.Match object; span=(90, 103), match='-hi@gmail.com'>\n",
      "<re.Match object; span=(103, 123), match='\\nmrperfect@gmail.com'>\n",
      "<re.Match object; span=(127, 136), match='@ass@.com'>\n"
     ]
    }
   ],
   "source": []
  },
  {
   "cell_type": "code",
   "execution_count": null,
   "metadata": {},
   "outputs": [],
   "source": []
  }
 ],
 "metadata": {
  "kernelspec": {
   "display_name": "Python 3",
   "language": "python",
   "name": "python3"
  },
  "language_info": {
   "codemirror_mode": {
    "name": "ipython",
    "version": 3
   },
   "file_extension": ".py",
   "mimetype": "text/x-python",
   "name": "python",
   "nbconvert_exporter": "python",
   "pygments_lexer": "ipython3",
   "version": "3.7.6"
  }
 },
 "nbformat": 4,
 "nbformat_minor": 4
}
